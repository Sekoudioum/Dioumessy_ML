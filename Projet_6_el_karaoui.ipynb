{
  "nbformat": 4,
  "nbformat_minor": 0,
  "metadata": {
    "colab": {
      "name": "Projet_6_el_karaoui.ipynb",
      "provenance": [],
      "collapsed_sections": [
        "VmqvNnqRoe2z",
        "yiY7MtTVs_9w",
        "Ywofy2FFtEcB",
        "N9zidzwKueA8"
      ],
      "authorship_tag": "ABX9TyNEq+0vaLHrV7/c2i5x5fR/",
      "include_colab_link": true
    },
    "kernelspec": {
      "name": "python3",
      "display_name": "Python 3"
    },
    "language_info": {
      "name": "python"
    }
  },
  "cells": [
    {
      "cell_type": "markdown",
      "metadata": {
        "id": "view-in-github",
        "colab_type": "text"
      },
      "source": [
        "<a href=\"https://colab.research.google.com/github/Sekoudioum/Dioumessy_ML/blob/main/Projet_6_el_karaoui.ipynb\" target=\"_parent\"><img src=\"https://colab.research.google.com/assets/colab-badge.svg\" alt=\"Open In Colab\"/></a>"
      ]
    },
    {
      "cell_type": "code",
      "execution_count": 38,
      "metadata": {
        "id": "BD7QQONnOwiS"
      },
      "outputs": [],
      "source": [
        "import pandas as pd\n",
        "import numpy as np\n",
        "import matplotlib.pyplot as plt\n",
        "#from sklearn.impute import SimpleImputer\n",
        "from sklearn.model_selection import train_test_split, cross_val_score, KFold\n",
        "from sklearn.preprocessing import StandardScaler \n",
        "from sklearn.linear_model import LogisticRegression, SGDClassifier\n",
        "from sklearn.metrics import confusion_matrix, classification_report, accuracy_score \n",
        "from sklearn.tree import DecisionTreeClassifier\n",
        "from sklearn.ensemble import RandomForestClassifier\n",
        "from sklearn.svm import LinearSVC\n",
        "from sklearn.neighbors import KNeighborsClassifier\n",
        "import xgboost as xgb"
      ]
    },
    {
      "cell_type": "code",
      "source": [
        "df=pd.read_csv('/content/drive/MyDrive/thyroidDF.csv')"
      ],
      "metadata": {
        "id": "4n-cyKKiPXrb"
      },
      "execution_count": 39,
      "outputs": []
    },
    {
      "cell_type": "code",
      "source": [
        "! git clone https://github.com/Sekoudioum/Dioumessy_ML.git"
      ],
      "metadata": {
        "colab": {
          "base_uri": "https://localhost:8080/"
        },
        "id": "ufns-uTB55Pj",
        "outputId": "f58af1d7-8edd-4e0b-ab06-3eb8b6dc4fe7"
      },
      "execution_count": 69,
      "outputs": [
        {
          "output_type": "stream",
          "name": "stdout",
          "text": [
            "Cloning into 'Dioumessy_ML'...\n",
            "remote: Enumerating objects: 6, done.\u001b[K\n",
            "remote: Counting objects: 100% (6/6), done.\u001b[K\n",
            "remote: Compressing objects: 100% (4/4), done.\u001b[K\n",
            "remote: Total 6 (delta 0), reused 0 (delta 0), pack-reused 0\u001b[K\n",
            "Unpacking objects: 100% (6/6), done.\n"
          ]
        }
      ]
    },
    {
      "cell_type": "code",
      "source": [
        ""
      ],
      "metadata": {
        "id": "Tsh8FBWH55s1"
      },
      "execution_count": null,
      "outputs": []
    },
    {
      "cell_type": "code",
      "source": [
        "df.head()"
      ],
      "metadata": {
        "id": "sxrU8XxYPXt-",
        "colab": {
          "base_uri": "https://localhost:8080/",
          "height": 237
        },
        "outputId": "3dc55cfc-7962-42af-88fa-dbf97edb5818"
      },
      "execution_count": 40,
      "outputs": [
        {
          "output_type": "execute_result",
          "data": {
            "text/plain": [
              "   age sex on_thyroxine query_on_thyroxine on_antithyroid_meds sick pregnant  \\\n",
              "0   29   F            f                  f                   f    f        f   \n",
              "1   29   F            f                  f                   f    f        f   \n",
              "2   41   F            f                  f                   f    f        f   \n",
              "3   36   F            f                  f                   f    f        f   \n",
              "4   32   F            f                  f                   f    f        f   \n",
              "\n",
              "  thyroid_surgery I131_treatment query_hypothyroid  ...    TT4 T4U_measured  \\\n",
              "0               f              f                 t  ...    NaN            f   \n",
              "1               f              f                 f  ...  128.0            f   \n",
              "2               f              f                 f  ...    NaN            f   \n",
              "3               f              f                 f  ...    NaN            f   \n",
              "4               f              f                 f  ...    NaN            f   \n",
              "\n",
              "  T4U FTI_measured FTI TBG_measured   TBG  referral_source target  patient_id  \n",
              "0 NaN            f NaN            f   NaN            other      -   840801013  \n",
              "1 NaN            f NaN            f   NaN            other      -   840801014  \n",
              "2 NaN            f NaN            t  11.0            other      -   840801042  \n",
              "3 NaN            f NaN            t  26.0            other      -   840803046  \n",
              "4 NaN            f NaN            t  36.0            other      S   840803047  \n",
              "\n",
              "[5 rows x 31 columns]"
            ],
            "text/html": [
              "\n",
              "  <div id=\"df-af27f5c5-8954-4248-9564-f3204c37cc9f\">\n",
              "    <div class=\"colab-df-container\">\n",
              "      <div>\n",
              "<style scoped>\n",
              "    .dataframe tbody tr th:only-of-type {\n",
              "        vertical-align: middle;\n",
              "    }\n",
              "\n",
              "    .dataframe tbody tr th {\n",
              "        vertical-align: top;\n",
              "    }\n",
              "\n",
              "    .dataframe thead th {\n",
              "        text-align: right;\n",
              "    }\n",
              "</style>\n",
              "<table border=\"1\" class=\"dataframe\">\n",
              "  <thead>\n",
              "    <tr style=\"text-align: right;\">\n",
              "      <th></th>\n",
              "      <th>age</th>\n",
              "      <th>sex</th>\n",
              "      <th>on_thyroxine</th>\n",
              "      <th>query_on_thyroxine</th>\n",
              "      <th>on_antithyroid_meds</th>\n",
              "      <th>sick</th>\n",
              "      <th>pregnant</th>\n",
              "      <th>thyroid_surgery</th>\n",
              "      <th>I131_treatment</th>\n",
              "      <th>query_hypothyroid</th>\n",
              "      <th>...</th>\n",
              "      <th>TT4</th>\n",
              "      <th>T4U_measured</th>\n",
              "      <th>T4U</th>\n",
              "      <th>FTI_measured</th>\n",
              "      <th>FTI</th>\n",
              "      <th>TBG_measured</th>\n",
              "      <th>TBG</th>\n",
              "      <th>referral_source</th>\n",
              "      <th>target</th>\n",
              "      <th>patient_id</th>\n",
              "    </tr>\n",
              "  </thead>\n",
              "  <tbody>\n",
              "    <tr>\n",
              "      <th>0</th>\n",
              "      <td>29</td>\n",
              "      <td>F</td>\n",
              "      <td>f</td>\n",
              "      <td>f</td>\n",
              "      <td>f</td>\n",
              "      <td>f</td>\n",
              "      <td>f</td>\n",
              "      <td>f</td>\n",
              "      <td>f</td>\n",
              "      <td>t</td>\n",
              "      <td>...</td>\n",
              "      <td>NaN</td>\n",
              "      <td>f</td>\n",
              "      <td>NaN</td>\n",
              "      <td>f</td>\n",
              "      <td>NaN</td>\n",
              "      <td>f</td>\n",
              "      <td>NaN</td>\n",
              "      <td>other</td>\n",
              "      <td>-</td>\n",
              "      <td>840801013</td>\n",
              "    </tr>\n",
              "    <tr>\n",
              "      <th>1</th>\n",
              "      <td>29</td>\n",
              "      <td>F</td>\n",
              "      <td>f</td>\n",
              "      <td>f</td>\n",
              "      <td>f</td>\n",
              "      <td>f</td>\n",
              "      <td>f</td>\n",
              "      <td>f</td>\n",
              "      <td>f</td>\n",
              "      <td>f</td>\n",
              "      <td>...</td>\n",
              "      <td>128.0</td>\n",
              "      <td>f</td>\n",
              "      <td>NaN</td>\n",
              "      <td>f</td>\n",
              "      <td>NaN</td>\n",
              "      <td>f</td>\n",
              "      <td>NaN</td>\n",
              "      <td>other</td>\n",
              "      <td>-</td>\n",
              "      <td>840801014</td>\n",
              "    </tr>\n",
              "    <tr>\n",
              "      <th>2</th>\n",
              "      <td>41</td>\n",
              "      <td>F</td>\n",
              "      <td>f</td>\n",
              "      <td>f</td>\n",
              "      <td>f</td>\n",
              "      <td>f</td>\n",
              "      <td>f</td>\n",
              "      <td>f</td>\n",
              "      <td>f</td>\n",
              "      <td>f</td>\n",
              "      <td>...</td>\n",
              "      <td>NaN</td>\n",
              "      <td>f</td>\n",
              "      <td>NaN</td>\n",
              "      <td>f</td>\n",
              "      <td>NaN</td>\n",
              "      <td>t</td>\n",
              "      <td>11.0</td>\n",
              "      <td>other</td>\n",
              "      <td>-</td>\n",
              "      <td>840801042</td>\n",
              "    </tr>\n",
              "    <tr>\n",
              "      <th>3</th>\n",
              "      <td>36</td>\n",
              "      <td>F</td>\n",
              "      <td>f</td>\n",
              "      <td>f</td>\n",
              "      <td>f</td>\n",
              "      <td>f</td>\n",
              "      <td>f</td>\n",
              "      <td>f</td>\n",
              "      <td>f</td>\n",
              "      <td>f</td>\n",
              "      <td>...</td>\n",
              "      <td>NaN</td>\n",
              "      <td>f</td>\n",
              "      <td>NaN</td>\n",
              "      <td>f</td>\n",
              "      <td>NaN</td>\n",
              "      <td>t</td>\n",
              "      <td>26.0</td>\n",
              "      <td>other</td>\n",
              "      <td>-</td>\n",
              "      <td>840803046</td>\n",
              "    </tr>\n",
              "    <tr>\n",
              "      <th>4</th>\n",
              "      <td>32</td>\n",
              "      <td>F</td>\n",
              "      <td>f</td>\n",
              "      <td>f</td>\n",
              "      <td>f</td>\n",
              "      <td>f</td>\n",
              "      <td>f</td>\n",
              "      <td>f</td>\n",
              "      <td>f</td>\n",
              "      <td>f</td>\n",
              "      <td>...</td>\n",
              "      <td>NaN</td>\n",
              "      <td>f</td>\n",
              "      <td>NaN</td>\n",
              "      <td>f</td>\n",
              "      <td>NaN</td>\n",
              "      <td>t</td>\n",
              "      <td>36.0</td>\n",
              "      <td>other</td>\n",
              "      <td>S</td>\n",
              "      <td>840803047</td>\n",
              "    </tr>\n",
              "  </tbody>\n",
              "</table>\n",
              "<p>5 rows × 31 columns</p>\n",
              "</div>\n",
              "      <button class=\"colab-df-convert\" onclick=\"convertToInteractive('df-af27f5c5-8954-4248-9564-f3204c37cc9f')\"\n",
              "              title=\"Convert this dataframe to an interactive table.\"\n",
              "              style=\"display:none;\">\n",
              "        \n",
              "  <svg xmlns=\"http://www.w3.org/2000/svg\" height=\"24px\"viewBox=\"0 0 24 24\"\n",
              "       width=\"24px\">\n",
              "    <path d=\"M0 0h24v24H0V0z\" fill=\"none\"/>\n",
              "    <path d=\"M18.56 5.44l.94 2.06.94-2.06 2.06-.94-2.06-.94-.94-2.06-.94 2.06-2.06.94zm-11 1L8.5 8.5l.94-2.06 2.06-.94-2.06-.94L8.5 2.5l-.94 2.06-2.06.94zm10 10l.94 2.06.94-2.06 2.06-.94-2.06-.94-.94-2.06-.94 2.06-2.06.94z\"/><path d=\"M17.41 7.96l-1.37-1.37c-.4-.4-.92-.59-1.43-.59-.52 0-1.04.2-1.43.59L10.3 9.45l-7.72 7.72c-.78.78-.78 2.05 0 2.83L4 21.41c.39.39.9.59 1.41.59.51 0 1.02-.2 1.41-.59l7.78-7.78 2.81-2.81c.8-.78.8-2.07 0-2.86zM5.41 20L4 18.59l7.72-7.72 1.47 1.35L5.41 20z\"/>\n",
              "  </svg>\n",
              "      </button>\n",
              "      \n",
              "  <style>\n",
              "    .colab-df-container {\n",
              "      display:flex;\n",
              "      flex-wrap:wrap;\n",
              "      gap: 12px;\n",
              "    }\n",
              "\n",
              "    .colab-df-convert {\n",
              "      background-color: #E8F0FE;\n",
              "      border: none;\n",
              "      border-radius: 50%;\n",
              "      cursor: pointer;\n",
              "      display: none;\n",
              "      fill: #1967D2;\n",
              "      height: 32px;\n",
              "      padding: 0 0 0 0;\n",
              "      width: 32px;\n",
              "    }\n",
              "\n",
              "    .colab-df-convert:hover {\n",
              "      background-color: #E2EBFA;\n",
              "      box-shadow: 0px 1px 2px rgba(60, 64, 67, 0.3), 0px 1px 3px 1px rgba(60, 64, 67, 0.15);\n",
              "      fill: #174EA6;\n",
              "    }\n",
              "\n",
              "    [theme=dark] .colab-df-convert {\n",
              "      background-color: #3B4455;\n",
              "      fill: #D2E3FC;\n",
              "    }\n",
              "\n",
              "    [theme=dark] .colab-df-convert:hover {\n",
              "      background-color: #434B5C;\n",
              "      box-shadow: 0px 1px 3px 1px rgba(0, 0, 0, 0.15);\n",
              "      filter: drop-shadow(0px 1px 2px rgba(0, 0, 0, 0.3));\n",
              "      fill: #FFFFFF;\n",
              "    }\n",
              "  </style>\n",
              "\n",
              "      <script>\n",
              "        const buttonEl =\n",
              "          document.querySelector('#df-af27f5c5-8954-4248-9564-f3204c37cc9f button.colab-df-convert');\n",
              "        buttonEl.style.display =\n",
              "          google.colab.kernel.accessAllowed ? 'block' : 'none';\n",
              "\n",
              "        async function convertToInteractive(key) {\n",
              "          const element = document.querySelector('#df-af27f5c5-8954-4248-9564-f3204c37cc9f');\n",
              "          const dataTable =\n",
              "            await google.colab.kernel.invokeFunction('convertToInteractive',\n",
              "                                                     [key], {});\n",
              "          if (!dataTable) return;\n",
              "\n",
              "          const docLinkHtml = 'Like what you see? Visit the ' +\n",
              "            '<a target=\"_blank\" href=https://colab.research.google.com/notebooks/data_table.ipynb>data table notebook</a>'\n",
              "            + ' to learn more about interactive tables.';\n",
              "          element.innerHTML = '';\n",
              "          dataTable['output_type'] = 'display_data';\n",
              "          await google.colab.output.renderOutput(dataTable, element);\n",
              "          const docLink = document.createElement('div');\n",
              "          docLink.innerHTML = docLinkHtml;\n",
              "          element.appendChild(docLink);\n",
              "        }\n",
              "      </script>\n",
              "    </div>\n",
              "  </div>\n",
              "  "
            ]
          },
          "metadata": {},
          "execution_count": 40
        }
      ]
    },
    {
      "cell_type": "markdown",
      "source": [
        "# Nouvelle section"
      ],
      "metadata": {
        "id": "8dskJIbKnYGV"
      }
    },
    {
      "cell_type": "code",
      "source": [
        "df.info()"
      ],
      "metadata": {
        "id": "J6yuJSuZPXwE",
        "colab": {
          "base_uri": "https://localhost:8080/"
        },
        "outputId": "23662068-1536-4ca1-97bc-45d19d19bb5e"
      },
      "execution_count": 41,
      "outputs": [
        {
          "output_type": "stream",
          "name": "stdout",
          "text": [
            "<class 'pandas.core.frame.DataFrame'>\n",
            "RangeIndex: 9172 entries, 0 to 9171\n",
            "Data columns (total 31 columns):\n",
            " #   Column               Non-Null Count  Dtype  \n",
            "---  ------               --------------  -----  \n",
            " 0   age                  9172 non-null   int64  \n",
            " 1   sex                  8865 non-null   object \n",
            " 2   on_thyroxine         9172 non-null   object \n",
            " 3   query_on_thyroxine   9172 non-null   object \n",
            " 4   on_antithyroid_meds  9172 non-null   object \n",
            " 5   sick                 9172 non-null   object \n",
            " 6   pregnant             9172 non-null   object \n",
            " 7   thyroid_surgery      9172 non-null   object \n",
            " 8   I131_treatment       9172 non-null   object \n",
            " 9   query_hypothyroid    9172 non-null   object \n",
            " 10  query_hyperthyroid   9172 non-null   object \n",
            " 11  lithium              9172 non-null   object \n",
            " 12  goitre               9172 non-null   object \n",
            " 13  tumor                9172 non-null   object \n",
            " 14  hypopituitary        9172 non-null   object \n",
            " 15  psych                9172 non-null   object \n",
            " 16  TSH_measured         9172 non-null   object \n",
            " 17  TSH                  8330 non-null   float64\n",
            " 18  T3_measured          9172 non-null   object \n",
            " 19  T3                   6568 non-null   float64\n",
            " 20  TT4_measured         9172 non-null   object \n",
            " 21  TT4                  8730 non-null   float64\n",
            " 22  T4U_measured         9172 non-null   object \n",
            " 23  T4U                  8363 non-null   float64\n",
            " 24  FTI_measured         9172 non-null   object \n",
            " 25  FTI                  8370 non-null   float64\n",
            " 26  TBG_measured         9172 non-null   object \n",
            " 27  TBG                  349 non-null    float64\n",
            " 28  referral_source      9172 non-null   object \n",
            " 29  target               9172 non-null   object \n",
            " 30  patient_id           9172 non-null   int64  \n",
            "dtypes: float64(6), int64(2), object(23)\n",
            "memory usage: 2.2+ MB\n"
          ]
        }
      ]
    },
    {
      "cell_type": "code",
      "source": [
        "df.isna().sum().sort_values()"
      ],
      "metadata": {
        "id": "Hc4y_8MuPXyB",
        "colab": {
          "base_uri": "https://localhost:8080/"
        },
        "outputId": "e98928e5-0a60-4ed1-d291-61e7bf1f46b1"
      },
      "execution_count": 42,
      "outputs": [
        {
          "output_type": "execute_result",
          "data": {
            "text/plain": [
              "age                       0\n",
              "referral_source           0\n",
              "TBG_measured              0\n",
              "FTI_measured              0\n",
              "T4U_measured              0\n",
              "TT4_measured              0\n",
              "T3_measured               0\n",
              "TSH_measured              0\n",
              "target                    0\n",
              "hypopituitary             0\n",
              "tumor                     0\n",
              "goitre                    0\n",
              "psych                     0\n",
              "query_hyperthyroid        0\n",
              "on_thyroxine              0\n",
              "query_on_thyroxine        0\n",
              "on_antithyroid_meds       0\n",
              "lithium                   0\n",
              "sick                      0\n",
              "patient_id                0\n",
              "pregnant                  0\n",
              "thyroid_surgery           0\n",
              "I131_treatment            0\n",
              "query_hypothyroid         0\n",
              "sex                     307\n",
              "TT4                     442\n",
              "FTI                     802\n",
              "T4U                     809\n",
              "TSH                     842\n",
              "T3                     2604\n",
              "TBG                    8823\n",
              "dtype: int64"
            ]
          },
          "metadata": {},
          "execution_count": 42
        }
      ]
    },
    {
      "cell_type": "code",
      "source": [
        "cat_var= df.select_dtypes(include='object').columns"
      ],
      "metadata": {
        "id": "Cqy9g0WpPX0a"
      },
      "execution_count": 43,
      "outputs": []
    },
    {
      "cell_type": "code",
      "source": [
        "cat_var"
      ],
      "metadata": {
        "id": "GXMXjdwbPX25",
        "colab": {
          "base_uri": "https://localhost:8080/"
        },
        "outputId": "109b48ba-6e4e-4bfe-da8b-24b6d083fad1"
      },
      "execution_count": 44,
      "outputs": [
        {
          "output_type": "execute_result",
          "data": {
            "text/plain": [
              "Index(['sex', 'on_thyroxine', 'query_on_thyroxine', 'on_antithyroid_meds',\n",
              "       'sick', 'pregnant', 'thyroid_surgery', 'I131_treatment',\n",
              "       'query_hypothyroid', 'query_hyperthyroid', 'lithium', 'goitre', 'tumor',\n",
              "       'hypopituitary', 'psych', 'TSH_measured', 'T3_measured', 'TT4_measured',\n",
              "       'T4U_measured', 'FTI_measured', 'TBG_measured', 'referral_source',\n",
              "       'target'],\n",
              "      dtype='object')"
            ]
          },
          "metadata": {},
          "execution_count": 44
        }
      ]
    },
    {
      "cell_type": "code",
      "source": [
        "num_var=df.select_dtypes(exclude= 'object').columns"
      ],
      "metadata": {
        "id": "efHWI22NPX5P"
      },
      "execution_count": 45,
      "outputs": []
    },
    {
      "cell_type": "code",
      "source": [
        "num_var"
      ],
      "metadata": {
        "id": "G0aI7nkRPX7X",
        "colab": {
          "base_uri": "https://localhost:8080/"
        },
        "outputId": "9620870e-7124-4b6b-cd25-330182d27a03"
      },
      "execution_count": 46,
      "outputs": [
        {
          "output_type": "execute_result",
          "data": {
            "text/plain": [
              "Index(['age', 'TSH', 'T3', 'TT4', 'T4U', 'FTI', 'TBG', 'patient_id'], dtype='object')"
            ]
          },
          "metadata": {},
          "execution_count": 46
        }
      ]
    },
    {
      "cell_type": "code",
      "source": [
        "#handling missing values in  both numerical and categorical columns\n",
        "#1ère methode\n",
        "\n",
        "df[num_var].isnull().sum()"
      ],
      "metadata": {
        "id": "OZdvnE_sPX-L",
        "colab": {
          "base_uri": "https://localhost:8080/"
        },
        "outputId": "bde0d8a5-0e1d-478b-b9f7-74ac5f6bf600"
      },
      "execution_count": 47,
      "outputs": [
        {
          "output_type": "execute_result",
          "data": {
            "text/plain": [
              "age              0\n",
              "TSH            842\n",
              "T3            2604\n",
              "TT4            442\n",
              "T4U            809\n",
              "FTI            802\n",
              "TBG           8823\n",
              "patient_id       0\n",
              "dtype: int64"
            ]
          },
          "metadata": {},
          "execution_count": 47
        }
      ]
    },
    {
      "cell_type": "code",
      "source": [
        "df[num_var]= df[num_var].fillna(value=0)"
      ],
      "metadata": {
        "id": "0QuvDWhUT21y"
      },
      "execution_count": 48,
      "outputs": []
    },
    {
      "cell_type": "code",
      "source": [
        "df[num_var].isnull().sum()"
      ],
      "metadata": {
        "id": "D5wJlDhIT24X",
        "colab": {
          "base_uri": "https://localhost:8080/"
        },
        "outputId": "50bc8068-2ee9-436f-a6bd-4a8c665b7e47"
      },
      "execution_count": 49,
      "outputs": [
        {
          "output_type": "execute_result",
          "data": {
            "text/plain": [
              "age           0\n",
              "TSH           0\n",
              "T3            0\n",
              "TT4           0\n",
              "T4U           0\n",
              "FTI           0\n",
              "TBG           0\n",
              "patient_id    0\n",
              "dtype: int64"
            ]
          },
          "metadata": {},
          "execution_count": 49
        }
      ]
    },
    {
      "cell_type": "code",
      "source": [
        "df.target.value_counts()"
      ],
      "metadata": {
        "id": "2Nj3xZkwZ_LJ",
        "colab": {
          "base_uri": "https://localhost:8080/"
        },
        "outputId": "0efc3fc8-3a61-48ed-e3c2-f90f9b9f441b"
      },
      "execution_count": 50,
      "outputs": [
        {
          "output_type": "execute_result",
          "data": {
            "text/plain": [
              "-      6771\n",
              "K       436\n",
              "G       359\n",
              "I       346\n",
              "F       233\n",
              "R       196\n",
              "A       147\n",
              "L       115\n",
              "M       111\n",
              "N       110\n",
              "S        85\n",
              "GK       49\n",
              "AK       46\n",
              "J        30\n",
              "B        21\n",
              "MK       16\n",
              "Q        14\n",
              "O        14\n",
              "C|I      12\n",
              "KJ       11\n",
              "GI       10\n",
              "H|K       8\n",
              "D         8\n",
              "FK        6\n",
              "C         6\n",
              "P         5\n",
              "MI        2\n",
              "LJ        1\n",
              "GKJ       1\n",
              "OI        1\n",
              "D|R       1\n",
              "E         1\n",
              "Name: target, dtype: int64"
            ]
          },
          "metadata": {},
          "execution_count": 50
        }
      ]
    },
    {
      "cell_type": "code",
      "source": [
        "df[cat_var].isnull().sum()"
      ],
      "metadata": {
        "id": "GVvrTopKT29K",
        "colab": {
          "base_uri": "https://localhost:8080/"
        },
        "outputId": "8db43c52-4cb2-4bf6-82ae-9f592a91e2b0"
      },
      "execution_count": 51,
      "outputs": [
        {
          "output_type": "execute_result",
          "data": {
            "text/plain": [
              "sex                    307\n",
              "on_thyroxine             0\n",
              "query_on_thyroxine       0\n",
              "on_antithyroid_meds      0\n",
              "sick                     0\n",
              "pregnant                 0\n",
              "thyroid_surgery          0\n",
              "I131_treatment           0\n",
              "query_hypothyroid        0\n",
              "query_hyperthyroid       0\n",
              "lithium                  0\n",
              "goitre                   0\n",
              "tumor                    0\n",
              "hypopituitary            0\n",
              "psych                    0\n",
              "TSH_measured             0\n",
              "T3_measured              0\n",
              "TT4_measured             0\n",
              "T4U_measured             0\n",
              "FTI_measured             0\n",
              "TBG_measured             0\n",
              "referral_source          0\n",
              "target                   0\n",
              "dtype: int64"
            ]
          },
          "metadata": {},
          "execution_count": 51
        }
      ]
    },
    {
      "cell_type": "code",
      "source": [
        "df['sex']=df['sex'].fillna(df['sex'].value_counts().index[0])"
      ],
      "metadata": {
        "id": "qBh5sQXbT3Bx"
      },
      "execution_count": 52,
      "outputs": []
    },
    {
      "cell_type": "code",
      "source": [
        "df[cat_var].isnull().sum()"
      ],
      "metadata": {
        "id": "LhPlW_EvT3EK",
        "colab": {
          "base_uri": "https://localhost:8080/"
        },
        "outputId": "8ec6e40e-5e94-4725-8a4c-0d5b06ebbd3a"
      },
      "execution_count": 53,
      "outputs": [
        {
          "output_type": "execute_result",
          "data": {
            "text/plain": [
              "sex                    0\n",
              "on_thyroxine           0\n",
              "query_on_thyroxine     0\n",
              "on_antithyroid_meds    0\n",
              "sick                   0\n",
              "pregnant               0\n",
              "thyroid_surgery        0\n",
              "I131_treatment         0\n",
              "query_hypothyroid      0\n",
              "query_hyperthyroid     0\n",
              "lithium                0\n",
              "goitre                 0\n",
              "tumor                  0\n",
              "hypopituitary          0\n",
              "psych                  0\n",
              "TSH_measured           0\n",
              "T3_measured            0\n",
              "TT4_measured           0\n",
              "T4U_measured           0\n",
              "FTI_measured           0\n",
              "TBG_measured           0\n",
              "referral_source        0\n",
              "target                 0\n",
              "dtype: int64"
            ]
          },
          "metadata": {},
          "execution_count": 53
        }
      ]
    },
    {
      "cell_type": "code",
      "source": [
        "df.isnull().sum()"
      ],
      "metadata": {
        "id": "0b-D8J9hjFen",
        "colab": {
          "base_uri": "https://localhost:8080/"
        },
        "outputId": "0b53db73-b389-44b9-b415-88df42ad3377"
      },
      "execution_count": 54,
      "outputs": [
        {
          "output_type": "execute_result",
          "data": {
            "text/plain": [
              "age                    0\n",
              "sex                    0\n",
              "on_thyroxine           0\n",
              "query_on_thyroxine     0\n",
              "on_antithyroid_meds    0\n",
              "sick                   0\n",
              "pregnant               0\n",
              "thyroid_surgery        0\n",
              "I131_treatment         0\n",
              "query_hypothyroid      0\n",
              "query_hyperthyroid     0\n",
              "lithium                0\n",
              "goitre                 0\n",
              "tumor                  0\n",
              "hypopituitary          0\n",
              "psych                  0\n",
              "TSH_measured           0\n",
              "TSH                    0\n",
              "T3_measured            0\n",
              "T3                     0\n",
              "TT4_measured           0\n",
              "TT4                    0\n",
              "T4U_measured           0\n",
              "T4U                    0\n",
              "FTI_measured           0\n",
              "FTI                    0\n",
              "TBG_measured           0\n",
              "TBG                    0\n",
              "referral_source        0\n",
              "target                 0\n",
              "patient_id             0\n",
              "dtype: int64"
            ]
          },
          "metadata": {},
          "execution_count": 54
        }
      ]
    },
    {
      "cell_type": "code",
      "source": [
        "#Methode2 \n",
        "# features_cat=df [cat_var].values\n",
        "# features_num=df[num_var].values\n",
        "# labels=df['target'].values\n",
        "# X_train_cat, X_test_cat, y_train , y_test= train_test_split(features_cat, labels, test_size=0.2) \n",
        "# X_train_num , X_test_num , y_train , y_test= train_test_split(features_num, labels, test_size=0.2)\n",
        "\n",
        "# X_num_imputer= SimpleImputer()\n",
        "# X_cat_imputer= SimpleImputer(strategy='most_frequent')\n",
        "\n",
        "# X_train_num = X_num_imputer.fit_transform(X_train_num)\n",
        "# X_test_num =X_num_imputer.transform(X_test_num)\n",
        "\n",
        "# X_train_cat= X_cat_imputer.fit_transform(X_train_cat)\n",
        "# X_test_cat= X_cat_imputer.transform(X_test_cat)\n",
        "\n",
        "\n",
        "# X_train= np.append(X_train_num, X_train_cat, axis=1)\n",
        "# X_test=np.append(X_test_num, X_test_cat, axis=1)"
      ],
      "metadata": {
        "id": "ABGkx73vT3Qt"
      },
      "execution_count": 55,
      "outputs": []
    },
    {
      "cell_type": "code",
      "source": [
        "# X_train= pd.DataFrame(X_train)\n",
        "# X_test=pd.DataFrame(X_test)\n",
        "# print(X_train.isna().sum().sort_values())\n",
        "# print(X_test.isna().sum().sort_values())"
      ],
      "metadata": {
        "id": "E6H8-4YJT3Tc"
      },
      "execution_count": 56,
      "outputs": []
    },
    {
      "cell_type": "code",
      "source": [
        "#one hot encoding\n",
        "\n",
        "col_to =['sex', 'on_thyroxine', 'query_on_thyroxine', 'on_antithyroid_meds',\n",
        "       'sick', 'pregnant', 'thyroid_surgery', 'I131_treatment',\n",
        "       'query_hypothyroid', 'query_hyperthyroid', 'lithium', 'goitre', 'tumor',\n",
        "       'hypopituitary', 'psych', 'TSH_measured', 'T3_measured', 'TT4_measured',\n",
        "       'T4U_measured', 'FTI_measured', 'TBG_measured', 'referral_source'\n",
        "    ]\n",
        "  \n",
        "df_dummies= pd.get_dummies(df, columns=col_to, drop_first= True)\n",
        "#df_dummies= pd.concat([df, df_dummies], axis=1)\n",
        "#df_dummies.drop(labels= col_to, axis=1, inplace=True)\n"
      ],
      "metadata": {
        "id": "hCrZzW8YlV8Y"
      },
      "execution_count": 57,
      "outputs": []
    },
    {
      "cell_type": "code",
      "source": [
        "df_dummies.info()"
      ],
      "metadata": {
        "id": "fwvpSdI2q2oo",
        "colab": {
          "base_uri": "https://localhost:8080/"
        },
        "outputId": "a83fc3bd-8b03-4b36-9153-e34a6fadafef"
      },
      "execution_count": 58,
      "outputs": [
        {
          "output_type": "stream",
          "name": "stdout",
          "text": [
            "<class 'pandas.core.frame.DataFrame'>\n",
            "RangeIndex: 9172 entries, 0 to 9171\n",
            "Data columns (total 35 columns):\n",
            " #   Column                 Non-Null Count  Dtype  \n",
            "---  ------                 --------------  -----  \n",
            " 0   age                    9172 non-null   int64  \n",
            " 1   TSH                    9172 non-null   float64\n",
            " 2   T3                     9172 non-null   float64\n",
            " 3   TT4                    9172 non-null   float64\n",
            " 4   T4U                    9172 non-null   float64\n",
            " 5   FTI                    9172 non-null   float64\n",
            " 6   TBG                    9172 non-null   float64\n",
            " 7   target                 9172 non-null   object \n",
            " 8   patient_id             9172 non-null   int64  \n",
            " 9   sex_M                  9172 non-null   uint8  \n",
            " 10  on_thyroxine_t         9172 non-null   uint8  \n",
            " 11  query_on_thyroxine_t   9172 non-null   uint8  \n",
            " 12  on_antithyroid_meds_t  9172 non-null   uint8  \n",
            " 13  sick_t                 9172 non-null   uint8  \n",
            " 14  pregnant_t             9172 non-null   uint8  \n",
            " 15  thyroid_surgery_t      9172 non-null   uint8  \n",
            " 16  I131_treatment_t       9172 non-null   uint8  \n",
            " 17  query_hypothyroid_t    9172 non-null   uint8  \n",
            " 18  query_hyperthyroid_t   9172 non-null   uint8  \n",
            " 19  lithium_t              9172 non-null   uint8  \n",
            " 20  goitre_t               9172 non-null   uint8  \n",
            " 21  tumor_t                9172 non-null   uint8  \n",
            " 22  hypopituitary_t        9172 non-null   uint8  \n",
            " 23  psych_t                9172 non-null   uint8  \n",
            " 24  TSH_measured_t         9172 non-null   uint8  \n",
            " 25  T3_measured_t          9172 non-null   uint8  \n",
            " 26  TT4_measured_t         9172 non-null   uint8  \n",
            " 27  T4U_measured_t         9172 non-null   uint8  \n",
            " 28  FTI_measured_t         9172 non-null   uint8  \n",
            " 29  TBG_measured_t         9172 non-null   uint8  \n",
            " 30  referral_source_SVHC   9172 non-null   uint8  \n",
            " 31  referral_source_SVHD   9172 non-null   uint8  \n",
            " 32  referral_source_SVI    9172 non-null   uint8  \n",
            " 33  referral_source_WEST   9172 non-null   uint8  \n",
            " 34  referral_source_other  9172 non-null   uint8  \n",
            "dtypes: float64(6), int64(2), object(1), uint8(26)\n",
            "memory usage: 877.9+ KB\n"
          ]
        }
      ]
    },
    {
      "cell_type": "code",
      "source": [
        "features= df_dummies.drop('target', axis=1).values\n",
        "labels=df_dummies['target'].values\n",
        "X_train, X_test, y_train, y_test= train_test_split(features, labels, test_size=0.2)"
      ],
      "metadata": {
        "id": "xPk_9HIoZ8UZ"
      },
      "execution_count": 59,
      "outputs": []
    },
    {
      "cell_type": "code",
      "source": [
        "#Scaling\n",
        "scaler=StandardScaler()\n",
        "X_train_scaled= scaler.fit_transform(X_train)\n",
        "X_test_scaled=scaler.transform(X_test)"
      ],
      "metadata": {
        "id": "a2D5Isn2v85f"
      },
      "execution_count": 60,
      "outputs": []
    },
    {
      "cell_type": "code",
      "source": [
        "X_train_scaled.shape[0], y_train.shape[0]"
      ],
      "metadata": {
        "id": "KSePBRIeHaoz",
        "colab": {
          "base_uri": "https://localhost:8080/"
        },
        "outputId": "d92e1823-b59b-4ad9-8fbd-5528a89a396d"
      },
      "execution_count": 61,
      "outputs": [
        {
          "output_type": "execute_result",
          "data": {
            "text/plain": [
              "(7337, 7337)"
            ]
          },
          "metadata": {},
          "execution_count": 61
        }
      ]
    },
    {
      "cell_type": "markdown",
      "source": [
        ""
      ],
      "metadata": {
        "id": "ZLXOS-u_oV3y"
      }
    },
    {
      "cell_type": "markdown",
      "source": [
        ""
      ],
      "metadata": {
        "id": "vPQZei1RoYQa"
      }
    },
    {
      "cell_type": "markdown",
      "source": [
        "# Models **Evaluation**"
      ],
      "metadata": {
        "id": "VmqvNnqRoe2z"
      }
    },
    {
      "cell_type": "code",
      "source": [
        "models=[('logistic regression', LogisticRegression()), \n",
        "        ('Decision tree', DecisionTreeClassifier()),\n",
        "        ('Random Forest', RandomForestClassifier()),\n",
        "        ('Linear SVM', LinearSVC()),\n",
        "        ('SGD classifier', SGDClassifier(loss='hinge'))]\n",
        "for name, model in models:\n",
        "  model.fit(X_train_scaled, y_train)\n",
        "  preds=model.predict(X_test_scaled)\n",
        "  accuracy= float(np.sum(preds==y_test)/y_test.shape[0])\n",
        "\n",
        "  print('{} : {:.2f}'.format(name, accuracy))\n"
      ],
      "metadata": {
        "id": "YclvN5HqGPgT",
        "colab": {
          "base_uri": "https://localhost:8080/"
        },
        "outputId": "b7bab24a-5d88-415f-8f5b-79f419f69623"
      },
      "execution_count": 62,
      "outputs": [
        {
          "output_type": "stream",
          "name": "stderr",
          "text": [
            "/usr/local/lib/python3.7/dist-packages/sklearn/linear_model/_logistic.py:818: ConvergenceWarning: lbfgs failed to converge (status=1):\n",
            "STOP: TOTAL NO. of ITERATIONS REACHED LIMIT.\n",
            "\n",
            "Increase the number of iterations (max_iter) or scale the data as shown in:\n",
            "    https://scikit-learn.org/stable/modules/preprocessing.html\n",
            "Please also refer to the documentation for alternative solver options:\n",
            "    https://scikit-learn.org/stable/modules/linear_model.html#logistic-regression\n",
            "  extra_warning_msg=_LOGISTIC_SOLVER_CONVERGENCE_MSG,\n"
          ]
        },
        {
          "output_type": "stream",
          "name": "stdout",
          "text": [
            "logistic regression : 0.85\n",
            "Decision tree : 0.94\n",
            "Random Forest : 0.94\n"
          ]
        },
        {
          "output_type": "stream",
          "name": "stderr",
          "text": [
            "/usr/local/lib/python3.7/dist-packages/sklearn/svm/_base.py:1208: ConvergenceWarning: Liblinear failed to converge, increase the number of iterations.\n",
            "  ConvergenceWarning,\n"
          ]
        },
        {
          "output_type": "stream",
          "name": "stdout",
          "text": [
            "Linear SVM : 0.80\n",
            "SGD classifier : 0.82\n"
          ]
        }
      ]
    },
    {
      "cell_type": "markdown",
      "source": [
        "# **KNN**"
      ],
      "metadata": {
        "id": "yiY7MtTVs_9w"
      }
    },
    {
      "cell_type": "code",
      "source": [
        "#autres manières de faire\n",
        "knn= KNeighborsClassifier()\n",
        "knn.fit(X_train_scaled, y_train)\n",
        "knn_predict= knn.predict(X_test_scaled)\n",
        "\n",
        "knn_train_accuracy= knn.score(X_train_scaled, y_train)\n",
        "knn_test_accuracy= accuracy_score(y_test, knn_predict)\n",
        "print('Training Accuracy :', knn_train_accuracy)\n",
        "print('Model Accuracy Score {:2f}', knn_test_accuracy)\n",
        "#print('confusion matrix \\n', confusion_matrix(y_test, knn_predict))\n",
        "print('classification report \\n', classification_report(y_test, knn_predict))\n"
      ],
      "metadata": {
        "id": "zqny3k7naBgu",
        "colab": {
          "base_uri": "https://localhost:8080/"
        },
        "outputId": "bd44c8c8-00aa-493f-9652-91aa7880f5f3"
      },
      "execution_count": 63,
      "outputs": [
        {
          "output_type": "stream",
          "name": "stdout",
          "text": [
            "Training Accuracy : 0.8611148970969061\n",
            "Model Accuracy Score {:2f} 0.8119891008174387\n",
            "classification report \n",
            "               precision    recall  f1-score   support\n",
            "\n",
            "           -       0.83      0.98      0.90      1333\n",
            "           A       0.71      0.50      0.59        30\n",
            "          AK       0.62      0.50      0.56        10\n",
            "           B       0.00      0.00      0.00         5\n",
            "           C       0.00      0.00      0.00         1\n",
            "         C|I       0.00      0.00      0.00         1\n",
            "           D       0.50      0.50      0.50         2\n",
            "           F       0.89      0.69      0.78        48\n",
            "          FK       0.00      0.00      0.00         1\n",
            "           G       0.73      0.15      0.26        71\n",
            "          GI       0.00      0.00      0.00         1\n",
            "          GK       1.00      0.14      0.25         7\n",
            "         H|K       0.00      0.00      0.00         1\n",
            "           I       0.75      0.46      0.57        78\n",
            "           J       1.00      0.12      0.22         8\n",
            "           K       0.74      0.53      0.62        96\n",
            "          KJ       0.00      0.00      0.00         2\n",
            "           L       0.38      0.23      0.29        26\n",
            "           M       0.29      0.09      0.13        23\n",
            "          MK       0.00      0.00      0.00         4\n",
            "           N       0.65      0.44      0.52        25\n",
            "           O       0.00      0.00      0.00         2\n",
            "           P       0.00      0.00      0.00         2\n",
            "           Q       0.33      0.25      0.29         4\n",
            "           R       0.60      0.08      0.14        37\n",
            "           S       1.00      0.76      0.87        17\n",
            "\n",
            "    accuracy                           0.81      1835\n",
            "   macro avg       0.42      0.25      0.29      1835\n",
            "weighted avg       0.79      0.81      0.78      1835\n",
            "\n"
          ]
        },
        {
          "output_type": "stream",
          "name": "stderr",
          "text": [
            "/usr/local/lib/python3.7/dist-packages/sklearn/metrics/_classification.py:1318: UndefinedMetricWarning: Precision and F-score are ill-defined and being set to 0.0 in labels with no predicted samples. Use `zero_division` parameter to control this behavior.\n",
            "  _warn_prf(average, modifier, msg_start, len(result))\n",
            "/usr/local/lib/python3.7/dist-packages/sklearn/metrics/_classification.py:1318: UndefinedMetricWarning: Precision and F-score are ill-defined and being set to 0.0 in labels with no predicted samples. Use `zero_division` parameter to control this behavior.\n",
            "  _warn_prf(average, modifier, msg_start, len(result))\n",
            "/usr/local/lib/python3.7/dist-packages/sklearn/metrics/_classification.py:1318: UndefinedMetricWarning: Precision and F-score are ill-defined and being set to 0.0 in labels with no predicted samples. Use `zero_division` parameter to control this behavior.\n",
            "  _warn_prf(average, modifier, msg_start, len(result))\n"
          ]
        }
      ]
    },
    {
      "cell_type": "markdown",
      "source": [
        "# `Logistic Regression`"
      ],
      "metadata": {
        "id": "Ywofy2FFtEcB"
      }
    },
    {
      "cell_type": "code",
      "source": [
        "logreg= LogisticRegression()\n",
        "logreg.fit(X_train_scaled, y_train)\n",
        "logreg_predict= logreg.predict(X_test_scaled)\n",
        " \n",
        "logreg_training_accuracy= logreg.score(X_train_scaled, y_train)\n",
        "logreg_testing_accuracy= accuracy_score(y_test, logreg_predict)\n",
        "\n",
        "print('Training Accuracy{:2f}'.format(logreg_training_accuracy))\n",
        "print('Model Accuracy Score {:2f}'.format(logreg_testing_accuracy))\n",
        "\n",
        "print('classification report \\n', classification_report(y_test, logreg_predict))\n"
      ],
      "metadata": {
        "id": "DzItbiJfs5iM",
        "colab": {
          "base_uri": "https://localhost:8080/"
        },
        "outputId": "e658ecc8-0ac5-4214-897c-a60a984bb2a6"
      },
      "execution_count": 64,
      "outputs": [
        {
          "output_type": "stream",
          "name": "stdout",
          "text": [
            "Training Accuracy0.873518\n",
            "Model Accuracy Score 0.849591\n",
            "classification report \n",
            "               precision    recall  f1-score   support\n",
            "\n",
            "           -       0.87      0.98      0.92      1333\n",
            "           A       0.78      0.60      0.68        30\n",
            "          AK       0.57      0.40      0.47        10\n",
            "           B       0.00      0.00      0.00         5\n",
            "           C       0.00      0.00      0.00         1\n",
            "         C|I       0.00      0.00      0.00         1\n",
            "           D       1.00      0.50      0.67         2\n",
            "           F       0.85      0.85      0.85        48\n",
            "          FK       0.00      0.00      0.00         1\n",
            "           G       0.89      0.45      0.60        71\n",
            "          GI       0.00      0.00      0.00         1\n",
            "          GK       1.00      0.29      0.44         7\n",
            "         H|K       0.00      0.00      0.00         1\n",
            "           I       0.62      0.51      0.56        78\n",
            "           J       0.00      0.00      0.00         8\n",
            "           K       0.83      0.66      0.73        96\n",
            "          KJ       0.00      0.00      0.00         2\n",
            "           L       0.40      0.15      0.22        26\n",
            "           M       0.76      0.57      0.65        23\n",
            "          MK       0.00      0.00      0.00         4\n",
            "           N       0.68      0.68      0.68        25\n",
            "           O       0.00      0.00      0.00         2\n",
            "           P       0.00      0.00      0.00         2\n",
            "           Q       0.50      0.25      0.33         4\n",
            "           R       0.46      0.16      0.24        37\n",
            "           S       1.00      0.88      0.94        17\n",
            "\n",
            "    accuracy                           0.85      1835\n",
            "   macro avg       0.43      0.30      0.35      1835\n",
            "weighted avg       0.83      0.85      0.83      1835\n",
            "\n"
          ]
        },
        {
          "output_type": "stream",
          "name": "stderr",
          "text": [
            "/usr/local/lib/python3.7/dist-packages/sklearn/linear_model/_logistic.py:818: ConvergenceWarning: lbfgs failed to converge (status=1):\n",
            "STOP: TOTAL NO. of ITERATIONS REACHED LIMIT.\n",
            "\n",
            "Increase the number of iterations (max_iter) or scale the data as shown in:\n",
            "    https://scikit-learn.org/stable/modules/preprocessing.html\n",
            "Please also refer to the documentation for alternative solver options:\n",
            "    https://scikit-learn.org/stable/modules/linear_model.html#logistic-regression\n",
            "  extra_warning_msg=_LOGISTIC_SOLVER_CONVERGENCE_MSG,\n",
            "/usr/local/lib/python3.7/dist-packages/sklearn/metrics/_classification.py:1318: UndefinedMetricWarning: Precision and F-score are ill-defined and being set to 0.0 in labels with no predicted samples. Use `zero_division` parameter to control this behavior.\n",
            "  _warn_prf(average, modifier, msg_start, len(result))\n",
            "/usr/local/lib/python3.7/dist-packages/sklearn/metrics/_classification.py:1318: UndefinedMetricWarning: Precision and F-score are ill-defined and being set to 0.0 in labels with no predicted samples. Use `zero_division` parameter to control this behavior.\n",
            "  _warn_prf(average, modifier, msg_start, len(result))\n",
            "/usr/local/lib/python3.7/dist-packages/sklearn/metrics/_classification.py:1318: UndefinedMetricWarning: Precision and F-score are ill-defined and being set to 0.0 in labels with no predicted samples. Use `zero_division` parameter to control this behavior.\n",
            "  _warn_prf(average, modifier, msg_start, len(result))\n"
          ]
        }
      ]
    },
    {
      "cell_type": "markdown",
      "source": [
        "# Random Forest\n"
      ],
      "metadata": {
        "id": "N9zidzwKueA8"
      }
    },
    {
      "cell_type": "code",
      "source": [
        "rf= RandomForestClassifier()\n",
        "rf.fit(X_train_scaled, y_train)\n",
        "rf_predict= rf.predict(X_test_scaled)\n",
        "\n",
        "rf_training_accuracy= rf.score(X_train_scaled, y_train)\n",
        "rf_testing_accuracy= accuracy_score(y_test, rf_predict)\n",
        "\n",
        "print('Training Accuracy{:2f}'.format(rf_training_accuracy))\n",
        "print('Model Accuracy Score {:2f}'.format(rf_testing_accuracy))\n",
        "\n",
        "print('classification report \\n', classification_report(y_test, rf_predict))\n"
      ],
      "metadata": {
        "id": "FkGbyS-9s5ri",
        "colab": {
          "base_uri": "https://localhost:8080/"
        },
        "outputId": "519e01f6-5717-49e5-8b4f-5ee768d3e3e8"
      },
      "execution_count": 65,
      "outputs": [
        {
          "output_type": "stream",
          "name": "stdout",
          "text": [
            "Training Accuracy1.000000\n",
            "Model Accuracy Score 0.935150\n",
            "classification report \n",
            "               precision    recall  f1-score   support\n",
            "\n",
            "           -       0.95      0.99      0.97      1333\n",
            "           A       0.88      0.73      0.80        30\n",
            "          AK       0.91      1.00      0.95        10\n",
            "           B       0.00      0.00      0.00         5\n",
            "           C       0.00      0.00      0.00         1\n",
            "         C|I       0.00      0.00      0.00         1\n",
            "           D       1.00      1.00      1.00         2\n",
            "           F       0.89      0.98      0.93        48\n",
            "          FK       0.00      0.00      0.00         1\n",
            "           G       0.95      1.00      0.97        71\n",
            "          GI       1.00      1.00      1.00         1\n",
            "          GK       1.00      0.86      0.92         7\n",
            "         H|K       1.00      1.00      1.00         1\n",
            "           I       0.81      0.67      0.73        78\n",
            "           J       0.00      0.00      0.00         8\n",
            "           K       0.96      0.85      0.91        96\n",
            "          KJ       0.00      0.00      0.00         2\n",
            "           L       0.88      0.54      0.67        26\n",
            "           M       0.96      0.96      0.96        23\n",
            "          MK       1.00      0.50      0.67         4\n",
            "           N       0.82      0.92      0.87        25\n",
            "           O       0.00      0.00      0.00         2\n",
            "           P       0.00      0.00      0.00         2\n",
            "           Q       0.00      0.00      0.00         4\n",
            "           R       0.81      0.70      0.75        37\n",
            "           S       1.00      1.00      1.00        17\n",
            "\n",
            "    accuracy                           0.94      1835\n",
            "   macro avg       0.61      0.57      0.58      1835\n",
            "weighted avg       0.92      0.94      0.93      1835\n",
            "\n"
          ]
        },
        {
          "output_type": "stream",
          "name": "stderr",
          "text": [
            "/usr/local/lib/python3.7/dist-packages/sklearn/metrics/_classification.py:1318: UndefinedMetricWarning: Precision and F-score are ill-defined and being set to 0.0 in labels with no predicted samples. Use `zero_division` parameter to control this behavior.\n",
            "  _warn_prf(average, modifier, msg_start, len(result))\n",
            "/usr/local/lib/python3.7/dist-packages/sklearn/metrics/_classification.py:1318: UndefinedMetricWarning: Precision and F-score are ill-defined and being set to 0.0 in labels with no predicted samples. Use `zero_division` parameter to control this behavior.\n",
            "  _warn_prf(average, modifier, msg_start, len(result))\n",
            "/usr/local/lib/python3.7/dist-packages/sklearn/metrics/_classification.py:1318: UndefinedMetricWarning: Precision and F-score are ill-defined and being set to 0.0 in labels with no predicted samples. Use `zero_division` parameter to control this behavior.\n",
            "  _warn_prf(average, modifier, msg_start, len(result))\n"
          ]
        }
      ]
    },
    {
      "cell_type": "markdown",
      "source": [
        "**XGBClassifier**"
      ],
      "metadata": {
        "id": "ECzn-Ji6xB5X"
      }
    },
    {
      "cell_type": "code",
      "source": [
        "xgb_cl= xgb.XGBClassifier(objective='reg: logistic', n_estimators=100, seed=123)\n",
        "xgb_cl.fit(X_train_scaled, y_train)\n",
        "xgb_predict= xgb_cl.predict(X_test_scaled)\n",
        "\n",
        "xgb_training_accuracy = xgb_cl.score(X_train_scaled, y_train)\n",
        "xgb_testing_accuracy = accuracy_score(y_test, xgb_predict)\n",
        "\n",
        "print('Training Accuracy {:2f}'.format(xgb_training_accuracy))\n",
        "print('Model Accuracy Score {:2f}'.format(xgb_testing_accuracy))\n",
        "\n",
        "print('classification report \\n ', classification_report(y_test, xgb_predict))\n",
        "\n"
      ],
      "metadata": {
        "id": "CAUvhRDc7Ysm",
        "colab": {
          "base_uri": "https://localhost:8080/"
        },
        "outputId": "19d53df8-deb8-4005-83fa-af2fd6412cb9"
      },
      "execution_count": 66,
      "outputs": [
        {
          "output_type": "stream",
          "name": "stdout",
          "text": [
            "Training Accuracy 0.979010\n",
            "Model Accuracy Score 0.942779\n",
            "classification report \n",
            "                precision    recall  f1-score   support\n",
            "\n",
            "           -       0.96      0.98      0.97      1333\n",
            "           A       0.88      0.73      0.80        30\n",
            "          AK       0.75      0.90      0.82        10\n",
            "           B       0.00      0.00      0.00         5\n",
            "           C       1.00      1.00      1.00         1\n",
            "         C|I       0.00      0.00      0.00         1\n",
            "           D       1.00      1.00      1.00         2\n",
            "           F       0.94      0.94      0.94        48\n",
            "          FK       0.50      1.00      0.67         1\n",
            "           G       0.97      1.00      0.99        71\n",
            "          GI       0.50      1.00      0.67         1\n",
            "          GK       1.00      0.86      0.92         7\n",
            "         H|K       1.00      1.00      1.00         1\n",
            "           I       0.76      0.65      0.70        78\n",
            "           J       0.88      0.88      0.88         8\n",
            "           K       0.99      0.94      0.96        96\n",
            "          KJ       0.00      0.00      0.00         2\n",
            "           L       0.75      0.69      0.72        26\n",
            "           M       1.00      0.96      0.98        23\n",
            "          MK       1.00      1.00      1.00         4\n",
            "           N       0.85      0.92      0.88        25\n",
            "           O       0.00      0.00      0.00         2\n",
            "           P       0.00      0.00      0.00         2\n",
            "           Q       0.67      0.50      0.57         4\n",
            "           R       0.84      0.70      0.76        37\n",
            "           S       1.00      1.00      1.00        17\n",
            "\n",
            "    accuracy                           0.94      1835\n",
            "   macro avg       0.70      0.72      0.70      1835\n",
            "weighted avg       0.94      0.94      0.94      1835\n",
            "\n"
          ]
        },
        {
          "output_type": "stream",
          "name": "stderr",
          "text": [
            "/usr/local/lib/python3.7/dist-packages/sklearn/metrics/_classification.py:1318: UndefinedMetricWarning: Precision and F-score are ill-defined and being set to 0.0 in labels with no predicted samples. Use `zero_division` parameter to control this behavior.\n",
            "  _warn_prf(average, modifier, msg_start, len(result))\n",
            "/usr/local/lib/python3.7/dist-packages/sklearn/metrics/_classification.py:1318: UndefinedMetricWarning: Precision and F-score are ill-defined and being set to 0.0 in labels with no predicted samples. Use `zero_division` parameter to control this behavior.\n",
            "  _warn_prf(average, modifier, msg_start, len(result))\n",
            "/usr/local/lib/python3.7/dist-packages/sklearn/metrics/_classification.py:1318: UndefinedMetricWarning: Precision and F-score are ill-defined and being set to 0.0 in labels with no predicted samples. Use `zero_division` parameter to control this behavior.\n",
            "  _warn_prf(average, modifier, msg_start, len(result))\n"
          ]
        }
      ]
    },
    {
      "cell_type": "code",
      "source": [
        "models= pd.DataFrame({\n",
        "    'Models': ['KNeighbors Classifier', 'Logistic Regression', 'XGBoost Classifier',\n",
        "                'Random Forest'],\n",
        "    'Training_Accuracy': [knn_train_accuracy, logreg_training_accuracy, xgb_training_accuracy, rf_training_accuracy],\n",
        "    'Model_Accuracy_Score': [ knn_test_accuracy, logreg_testing_accuracy, xgb_testing_accuracy, rf_testing_accuracy]\n",
        "\n",
        "})\n",
        "                   "
      ],
      "metadata": {
        "id": "Rqk80E5TZ9P9"
      },
      "execution_count": 67,
      "outputs": []
    },
    {
      "cell_type": "code",
      "source": [
        "models.sort_values(by='Model_Accuracy_Score', ascending=False)"
      ],
      "metadata": {
        "id": "Go0F8PtZk78b",
        "colab": {
          "base_uri": "https://localhost:8080/",
          "height": 0
        },
        "outputId": "54ef0f10-fc35-4b32-f885-9f075a71f661"
      },
      "execution_count": 68,
      "outputs": [
        {
          "output_type": "execute_result",
          "data": {
            "text/plain": [
              "                  Models  Training_Accuracy  Model_Accuracy_Score\n",
              "2     XGBoost Classifier           0.979010              0.942779\n",
              "3          Random Forest           1.000000              0.935150\n",
              "1    Logistic Regression           0.873518              0.849591\n",
              "0  KNeighbors Classifier           0.861115              0.811989"
            ],
            "text/html": [
              "\n",
              "  <div id=\"df-5fc99575-dcd8-4bb2-bc40-d906e086ef6b\">\n",
              "    <div class=\"colab-df-container\">\n",
              "      <div>\n",
              "<style scoped>\n",
              "    .dataframe tbody tr th:only-of-type {\n",
              "        vertical-align: middle;\n",
              "    }\n",
              "\n",
              "    .dataframe tbody tr th {\n",
              "        vertical-align: top;\n",
              "    }\n",
              "\n",
              "    .dataframe thead th {\n",
              "        text-align: right;\n",
              "    }\n",
              "</style>\n",
              "<table border=\"1\" class=\"dataframe\">\n",
              "  <thead>\n",
              "    <tr style=\"text-align: right;\">\n",
              "      <th></th>\n",
              "      <th>Models</th>\n",
              "      <th>Training_Accuracy</th>\n",
              "      <th>Model_Accuracy_Score</th>\n",
              "    </tr>\n",
              "  </thead>\n",
              "  <tbody>\n",
              "    <tr>\n",
              "      <th>2</th>\n",
              "      <td>XGBoost Classifier</td>\n",
              "      <td>0.979010</td>\n",
              "      <td>0.942779</td>\n",
              "    </tr>\n",
              "    <tr>\n",
              "      <th>3</th>\n",
              "      <td>Random Forest</td>\n",
              "      <td>1.000000</td>\n",
              "      <td>0.935150</td>\n",
              "    </tr>\n",
              "    <tr>\n",
              "      <th>1</th>\n",
              "      <td>Logistic Regression</td>\n",
              "      <td>0.873518</td>\n",
              "      <td>0.849591</td>\n",
              "    </tr>\n",
              "    <tr>\n",
              "      <th>0</th>\n",
              "      <td>KNeighbors Classifier</td>\n",
              "      <td>0.861115</td>\n",
              "      <td>0.811989</td>\n",
              "    </tr>\n",
              "  </tbody>\n",
              "</table>\n",
              "</div>\n",
              "      <button class=\"colab-df-convert\" onclick=\"convertToInteractive('df-5fc99575-dcd8-4bb2-bc40-d906e086ef6b')\"\n",
              "              title=\"Convert this dataframe to an interactive table.\"\n",
              "              style=\"display:none;\">\n",
              "        \n",
              "  <svg xmlns=\"http://www.w3.org/2000/svg\" height=\"24px\"viewBox=\"0 0 24 24\"\n",
              "       width=\"24px\">\n",
              "    <path d=\"M0 0h24v24H0V0z\" fill=\"none\"/>\n",
              "    <path d=\"M18.56 5.44l.94 2.06.94-2.06 2.06-.94-2.06-.94-.94-2.06-.94 2.06-2.06.94zm-11 1L8.5 8.5l.94-2.06 2.06-.94-2.06-.94L8.5 2.5l-.94 2.06-2.06.94zm10 10l.94 2.06.94-2.06 2.06-.94-2.06-.94-.94-2.06-.94 2.06-2.06.94z\"/><path d=\"M17.41 7.96l-1.37-1.37c-.4-.4-.92-.59-1.43-.59-.52 0-1.04.2-1.43.59L10.3 9.45l-7.72 7.72c-.78.78-.78 2.05 0 2.83L4 21.41c.39.39.9.59 1.41.59.51 0 1.02-.2 1.41-.59l7.78-7.78 2.81-2.81c.8-.78.8-2.07 0-2.86zM5.41 20L4 18.59l7.72-7.72 1.47 1.35L5.41 20z\"/>\n",
              "  </svg>\n",
              "      </button>\n",
              "      \n",
              "  <style>\n",
              "    .colab-df-container {\n",
              "      display:flex;\n",
              "      flex-wrap:wrap;\n",
              "      gap: 12px;\n",
              "    }\n",
              "\n",
              "    .colab-df-convert {\n",
              "      background-color: #E8F0FE;\n",
              "      border: none;\n",
              "      border-radius: 50%;\n",
              "      cursor: pointer;\n",
              "      display: none;\n",
              "      fill: #1967D2;\n",
              "      height: 32px;\n",
              "      padding: 0 0 0 0;\n",
              "      width: 32px;\n",
              "    }\n",
              "\n",
              "    .colab-df-convert:hover {\n",
              "      background-color: #E2EBFA;\n",
              "      box-shadow: 0px 1px 2px rgba(60, 64, 67, 0.3), 0px 1px 3px 1px rgba(60, 64, 67, 0.15);\n",
              "      fill: #174EA6;\n",
              "    }\n",
              "\n",
              "    [theme=dark] .colab-df-convert {\n",
              "      background-color: #3B4455;\n",
              "      fill: #D2E3FC;\n",
              "    }\n",
              "\n",
              "    [theme=dark] .colab-df-convert:hover {\n",
              "      background-color: #434B5C;\n",
              "      box-shadow: 0px 1px 3px 1px rgba(0, 0, 0, 0.15);\n",
              "      filter: drop-shadow(0px 1px 2px rgba(0, 0, 0, 0.3));\n",
              "      fill: #FFFFFF;\n",
              "    }\n",
              "  </style>\n",
              "\n",
              "      <script>\n",
              "        const buttonEl =\n",
              "          document.querySelector('#df-5fc99575-dcd8-4bb2-bc40-d906e086ef6b button.colab-df-convert');\n",
              "        buttonEl.style.display =\n",
              "          google.colab.kernel.accessAllowed ? 'block' : 'none';\n",
              "\n",
              "        async function convertToInteractive(key) {\n",
              "          const element = document.querySelector('#df-5fc99575-dcd8-4bb2-bc40-d906e086ef6b');\n",
              "          const dataTable =\n",
              "            await google.colab.kernel.invokeFunction('convertToInteractive',\n",
              "                                                     [key], {});\n",
              "          if (!dataTable) return;\n",
              "\n",
              "          const docLinkHtml = 'Like what you see? Visit the ' +\n",
              "            '<a target=\"_blank\" href=https://colab.research.google.com/notebooks/data_table.ipynb>data table notebook</a>'\n",
              "            + ' to learn more about interactive tables.';\n",
              "          element.innerHTML = '';\n",
              "          dataTable['output_type'] = 'display_data';\n",
              "          await google.colab.output.renderOutput(dataTable, element);\n",
              "          const docLink = document.createElement('div');\n",
              "          docLink.innerHTML = docLinkHtml;\n",
              "          element.appendChild(docLink);\n",
              "        }\n",
              "      </script>\n",
              "    </div>\n",
              "  </div>\n",
              "  "
            ]
          },
          "metadata": {},
          "execution_count": 68
        }
      ]
    }
  ]
}
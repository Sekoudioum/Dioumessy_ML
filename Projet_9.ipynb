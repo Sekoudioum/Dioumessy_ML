{
  "nbformat": 4,
  "nbformat_minor": 0,
  "metadata": {
    "colab": {
      "name": "Projet_9.ipynb",
      "provenance": [],
      "mount_file_id": "1KcPuzKlzDRwMq61MccWA8ONzWOd84KlH",
      "authorship_tag": "ABX9TyN/ESAc5wJuAWxal3hzFH0f",
      "include_colab_link": true
    },
    "kernelspec": {
      "name": "python3",
      "display_name": "Python 3"
    },
    "language_info": {
      "name": "python"
    }
  },
  "cells": [
    {
      "cell_type": "markdown",
      "metadata": {
        "id": "view-in-github",
        "colab_type": "text"
      },
      "source": [
        "<a href=\"https://colab.research.google.com/github/Sekoudioum/Dioumessy_ML/blob/main/Projet_9.ipynb\" target=\"_parent\"><img src=\"https://colab.research.google.com/assets/colab-badge.svg\" alt=\"Open In Colab\"/></a>"
      ]
    },
    {
      "cell_type": "code",
      "execution_count": 80,
      "metadata": {
        "id": "JyTj-ID-JsAq"
      },
      "outputs": [],
      "source": [
        "import pandas as pd\n",
        "import numpy as np\n",
        "import matplotlib.pyplot as plt\n",
        "import seaborn as sns\n",
        "\n",
        "df=pd.read_csv('/content/drive/MyDrive/EEG_Eye_State_Classification.csv')\n",
        "from sklearn.model_selection import train_test_split\n",
        "from sklearn.preprocessing import StandardScaler\n",
        "from sklearn.decomposition import PCA\n",
        "from sklearn.neighbors import KNeighborsClassifier \n",
        "from sklearn.svm import LinearSVC\n",
        "from sklearn.linear_model import LogisticRegression\n",
        "from sklearn.tree import DecisionTreeClassifier\n",
        "from sklearn.linear_model import SGDClassifier\n",
        "from sklearn.ensemble import RandomForestClassifier\n",
        "from sklearn.metrics import accuracy_score\n",
        "from sklearn.model_selection import cross_val_score\n",
        "from sklearn.metrics import confusion_matrix, classification_report \n"
      ]
    },
    {
      "cell_type": "code",
      "source": [
        "! git clone https://github.com/Sekoudioum/Dioumessy_ML.git"
      ],
      "metadata": {
        "colab": {
          "base_uri": "https://localhost:8080/"
        },
        "id": "dKBgAc-a1VBN",
        "outputId": "0241777c-4ed4-480b-8c09-e348d81eb54a"
      },
      "execution_count": 113,
      "outputs": [
        {
          "output_type": "stream",
          "name": "stdout",
          "text": [
            "Cloning into 'Dioumessy_ML'...\n",
            "remote: Enumerating objects: 9, done.\u001b[K\n",
            "remote: Counting objects: 100% (9/9), done.\u001b[K\n",
            "remote: Compressing objects: 100% (7/7), done.\u001b[K\n",
            "remote: Total 9 (delta 0), reused 0 (delta 0), pack-reused 0\u001b[K\n",
            "Unpacking objects: 100% (9/9), done.\n"
          ]
        }
      ]
    },
    {
      "cell_type": "code",
      "source": [
        "df.head()"
      ],
      "metadata": {
        "colab": {
          "base_uri": "https://localhost:8080/",
          "height": 208
        },
        "id": "_jTg5jtmM4M8",
        "outputId": "d43cf517-fe40-4ca8-da6c-f03873aeef90"
      },
      "execution_count": 81,
      "outputs": [
        {
          "output_type": "execute_result",
          "data": {
            "text/plain": [
              "       AF3       F7       F3      FC5       T7       P7       O1       O2  \\\n",
              "0  4329.23  4009.23  4289.23  4148.21  4350.26  4586.15  4096.92  4641.03   \n",
              "1  4324.62  4004.62  4293.85  4148.72  4342.05  4586.67  4097.44  4638.97   \n",
              "2  4327.69  4006.67  4295.38  4156.41  4336.92  4583.59  4096.92  4630.26   \n",
              "3  4328.72  4011.79  4296.41  4155.90  4343.59  4582.56  4097.44  4630.77   \n",
              "4  4326.15  4011.79  4292.31  4151.28  4347.69  4586.67  4095.90  4627.69   \n",
              "\n",
              "        P8       T8      FC6       F4       F8      AF4  eyeDetection  \n",
              "0  4222.05  4238.46  4211.28  4280.51  4635.90  4393.85             0  \n",
              "1  4210.77  4226.67  4207.69  4279.49  4632.82  4384.10             0  \n",
              "2  4207.69  4222.05  4206.67  4282.05  4628.72  4389.23             0  \n",
              "3  4217.44  4235.38  4210.77  4287.69  4632.31  4396.41             0  \n",
              "4  4210.77  4244.10  4212.82  4288.21  4632.82  4398.46             0  "
            ],
            "text/html": [
              "\n",
              "  <div id=\"df-ce7d1aae-a451-41e3-b8fb-e2c8b18afd77\">\n",
              "    <div class=\"colab-df-container\">\n",
              "      <div>\n",
              "<style scoped>\n",
              "    .dataframe tbody tr th:only-of-type {\n",
              "        vertical-align: middle;\n",
              "    }\n",
              "\n",
              "    .dataframe tbody tr th {\n",
              "        vertical-align: top;\n",
              "    }\n",
              "\n",
              "    .dataframe thead th {\n",
              "        text-align: right;\n",
              "    }\n",
              "</style>\n",
              "<table border=\"1\" class=\"dataframe\">\n",
              "  <thead>\n",
              "    <tr style=\"text-align: right;\">\n",
              "      <th></th>\n",
              "      <th>AF3</th>\n",
              "      <th>F7</th>\n",
              "      <th>F3</th>\n",
              "      <th>FC5</th>\n",
              "      <th>T7</th>\n",
              "      <th>P7</th>\n",
              "      <th>O1</th>\n",
              "      <th>O2</th>\n",
              "      <th>P8</th>\n",
              "      <th>T8</th>\n",
              "      <th>FC6</th>\n",
              "      <th>F4</th>\n",
              "      <th>F8</th>\n",
              "      <th>AF4</th>\n",
              "      <th>eyeDetection</th>\n",
              "    </tr>\n",
              "  </thead>\n",
              "  <tbody>\n",
              "    <tr>\n",
              "      <th>0</th>\n",
              "      <td>4329.23</td>\n",
              "      <td>4009.23</td>\n",
              "      <td>4289.23</td>\n",
              "      <td>4148.21</td>\n",
              "      <td>4350.26</td>\n",
              "      <td>4586.15</td>\n",
              "      <td>4096.92</td>\n",
              "      <td>4641.03</td>\n",
              "      <td>4222.05</td>\n",
              "      <td>4238.46</td>\n",
              "      <td>4211.28</td>\n",
              "      <td>4280.51</td>\n",
              "      <td>4635.90</td>\n",
              "      <td>4393.85</td>\n",
              "      <td>0</td>\n",
              "    </tr>\n",
              "    <tr>\n",
              "      <th>1</th>\n",
              "      <td>4324.62</td>\n",
              "      <td>4004.62</td>\n",
              "      <td>4293.85</td>\n",
              "      <td>4148.72</td>\n",
              "      <td>4342.05</td>\n",
              "      <td>4586.67</td>\n",
              "      <td>4097.44</td>\n",
              "      <td>4638.97</td>\n",
              "      <td>4210.77</td>\n",
              "      <td>4226.67</td>\n",
              "      <td>4207.69</td>\n",
              "      <td>4279.49</td>\n",
              "      <td>4632.82</td>\n",
              "      <td>4384.10</td>\n",
              "      <td>0</td>\n",
              "    </tr>\n",
              "    <tr>\n",
              "      <th>2</th>\n",
              "      <td>4327.69</td>\n",
              "      <td>4006.67</td>\n",
              "      <td>4295.38</td>\n",
              "      <td>4156.41</td>\n",
              "      <td>4336.92</td>\n",
              "      <td>4583.59</td>\n",
              "      <td>4096.92</td>\n",
              "      <td>4630.26</td>\n",
              "      <td>4207.69</td>\n",
              "      <td>4222.05</td>\n",
              "      <td>4206.67</td>\n",
              "      <td>4282.05</td>\n",
              "      <td>4628.72</td>\n",
              "      <td>4389.23</td>\n",
              "      <td>0</td>\n",
              "    </tr>\n",
              "    <tr>\n",
              "      <th>3</th>\n",
              "      <td>4328.72</td>\n",
              "      <td>4011.79</td>\n",
              "      <td>4296.41</td>\n",
              "      <td>4155.90</td>\n",
              "      <td>4343.59</td>\n",
              "      <td>4582.56</td>\n",
              "      <td>4097.44</td>\n",
              "      <td>4630.77</td>\n",
              "      <td>4217.44</td>\n",
              "      <td>4235.38</td>\n",
              "      <td>4210.77</td>\n",
              "      <td>4287.69</td>\n",
              "      <td>4632.31</td>\n",
              "      <td>4396.41</td>\n",
              "      <td>0</td>\n",
              "    </tr>\n",
              "    <tr>\n",
              "      <th>4</th>\n",
              "      <td>4326.15</td>\n",
              "      <td>4011.79</td>\n",
              "      <td>4292.31</td>\n",
              "      <td>4151.28</td>\n",
              "      <td>4347.69</td>\n",
              "      <td>4586.67</td>\n",
              "      <td>4095.90</td>\n",
              "      <td>4627.69</td>\n",
              "      <td>4210.77</td>\n",
              "      <td>4244.10</td>\n",
              "      <td>4212.82</td>\n",
              "      <td>4288.21</td>\n",
              "      <td>4632.82</td>\n",
              "      <td>4398.46</td>\n",
              "      <td>0</td>\n",
              "    </tr>\n",
              "  </tbody>\n",
              "</table>\n",
              "</div>\n",
              "      <button class=\"colab-df-convert\" onclick=\"convertToInteractive('df-ce7d1aae-a451-41e3-b8fb-e2c8b18afd77')\"\n",
              "              title=\"Convert this dataframe to an interactive table.\"\n",
              "              style=\"display:none;\">\n",
              "        \n",
              "  <svg xmlns=\"http://www.w3.org/2000/svg\" height=\"24px\"viewBox=\"0 0 24 24\"\n",
              "       width=\"24px\">\n",
              "    <path d=\"M0 0h24v24H0V0z\" fill=\"none\"/>\n",
              "    <path d=\"M18.56 5.44l.94 2.06.94-2.06 2.06-.94-2.06-.94-.94-2.06-.94 2.06-2.06.94zm-11 1L8.5 8.5l.94-2.06 2.06-.94-2.06-.94L8.5 2.5l-.94 2.06-2.06.94zm10 10l.94 2.06.94-2.06 2.06-.94-2.06-.94-.94-2.06-.94 2.06-2.06.94z\"/><path d=\"M17.41 7.96l-1.37-1.37c-.4-.4-.92-.59-1.43-.59-.52 0-1.04.2-1.43.59L10.3 9.45l-7.72 7.72c-.78.78-.78 2.05 0 2.83L4 21.41c.39.39.9.59 1.41.59.51 0 1.02-.2 1.41-.59l7.78-7.78 2.81-2.81c.8-.78.8-2.07 0-2.86zM5.41 20L4 18.59l7.72-7.72 1.47 1.35L5.41 20z\"/>\n",
              "  </svg>\n",
              "      </button>\n",
              "      \n",
              "  <style>\n",
              "    .colab-df-container {\n",
              "      display:flex;\n",
              "      flex-wrap:wrap;\n",
              "      gap: 12px;\n",
              "    }\n",
              "\n",
              "    .colab-df-convert {\n",
              "      background-color: #E8F0FE;\n",
              "      border: none;\n",
              "      border-radius: 50%;\n",
              "      cursor: pointer;\n",
              "      display: none;\n",
              "      fill: #1967D2;\n",
              "      height: 32px;\n",
              "      padding: 0 0 0 0;\n",
              "      width: 32px;\n",
              "    }\n",
              "\n",
              "    .colab-df-convert:hover {\n",
              "      background-color: #E2EBFA;\n",
              "      box-shadow: 0px 1px 2px rgba(60, 64, 67, 0.3), 0px 1px 3px 1px rgba(60, 64, 67, 0.15);\n",
              "      fill: #174EA6;\n",
              "    }\n",
              "\n",
              "    [theme=dark] .colab-df-convert {\n",
              "      background-color: #3B4455;\n",
              "      fill: #D2E3FC;\n",
              "    }\n",
              "\n",
              "    [theme=dark] .colab-df-convert:hover {\n",
              "      background-color: #434B5C;\n",
              "      box-shadow: 0px 1px 3px 1px rgba(0, 0, 0, 0.15);\n",
              "      filter: drop-shadow(0px 1px 2px rgba(0, 0, 0, 0.3));\n",
              "      fill: #FFFFFF;\n",
              "    }\n",
              "  </style>\n",
              "\n",
              "      <script>\n",
              "        const buttonEl =\n",
              "          document.querySelector('#df-ce7d1aae-a451-41e3-b8fb-e2c8b18afd77 button.colab-df-convert');\n",
              "        buttonEl.style.display =\n",
              "          google.colab.kernel.accessAllowed ? 'block' : 'none';\n",
              "\n",
              "        async function convertToInteractive(key) {\n",
              "          const element = document.querySelector('#df-ce7d1aae-a451-41e3-b8fb-e2c8b18afd77');\n",
              "          const dataTable =\n",
              "            await google.colab.kernel.invokeFunction('convertToInteractive',\n",
              "                                                     [key], {});\n",
              "          if (!dataTable) return;\n",
              "\n",
              "          const docLinkHtml = 'Like what you see? Visit the ' +\n",
              "            '<a target=\"_blank\" href=https://colab.research.google.com/notebooks/data_table.ipynb>data table notebook</a>'\n",
              "            + ' to learn more about interactive tables.';\n",
              "          element.innerHTML = '';\n",
              "          dataTable['output_type'] = 'display_data';\n",
              "          await google.colab.output.renderOutput(dataTable, element);\n",
              "          const docLink = document.createElement('div');\n",
              "          docLink.innerHTML = docLinkHtml;\n",
              "          element.appendChild(docLink);\n",
              "        }\n",
              "      </script>\n",
              "    </div>\n",
              "  </div>\n",
              "  "
            ]
          },
          "metadata": {},
          "execution_count": 81
        }
      ]
    },
    {
      "cell_type": "code",
      "source": [
        "df_corr= df.corr().abs()\n",
        "df_corr.style.background_gradient()"
      ],
      "metadata": {
        "colab": {
          "base_uri": "https://localhost:8080/",
          "height": 521
        },
        "id": "4IfG94wAX87B",
        "outputId": "3ef688e1-98bf-488b-d56d-e519a440323e"
      },
      "execution_count": 82,
      "outputs": [
        {
          "output_type": "execute_result",
          "data": {
            "text/plain": [
              "<pandas.io.formats.style.Styler at 0x7f807872a350>"
            ],
            "text/html": [
              "<style type=\"text/css\">\n",
              "#T_68767_row0_col0, #T_68767_row0_col8, #T_68767_row0_col12, #T_68767_row1_col1, #T_68767_row2_col2, #T_68767_row3_col3, #T_68767_row3_col6, #T_68767_row4_col4, #T_68767_row5_col5, #T_68767_row6_col3, #T_68767_row6_col6, #T_68767_row7_col7, #T_68767_row8_col0, #T_68767_row8_col8, #T_68767_row8_col12, #T_68767_row9_col9, #T_68767_row10_col10, #T_68767_row11_col11, #T_68767_row12_col0, #T_68767_row12_col8, #T_68767_row12_col12, #T_68767_row13_col13, #T_68767_row14_col14 {\n",
              "  background-color: #023858;\n",
              "  color: #f1f1f1;\n",
              "}\n",
              "#T_68767_row0_col1 {\n",
              "  background-color: #d5d5e8;\n",
              "  color: #000000;\n",
              "}\n",
              "#T_68767_row0_col2 {\n",
              "  background-color: #86b0d3;\n",
              "  color: #000000;\n",
              "}\n",
              "#T_68767_row0_col3, #T_68767_row0_col13, #T_68767_row3_col0, #T_68767_row3_col8, #T_68767_row3_col14, #T_68767_row5_col6, #T_68767_row5_col8, #T_68767_row5_col14, #T_68767_row6_col5, #T_68767_row6_col12, #T_68767_row6_col14, #T_68767_row8_col5, #T_68767_row12_col6, #T_68767_row13_col0, #T_68767_row13_col14, #T_68767_row14_col7, #T_68767_row14_col12 {\n",
              "  background-color: #fef6fb;\n",
              "  color: #000000;\n",
              "}\n",
              "#T_68767_row0_col4 {\n",
              "  background-color: #c6cce3;\n",
              "  color: #000000;\n",
              "}\n",
              "#T_68767_row0_col5, #T_68767_row0_col6, #T_68767_row3_col5, #T_68767_row3_col12, #T_68767_row4_col14, #T_68767_row5_col0, #T_68767_row5_col1, #T_68767_row5_col3, #T_68767_row6_col0, #T_68767_row6_col8, #T_68767_row8_col6, #T_68767_row8_col13, #T_68767_row9_col10, #T_68767_row10_col9, #T_68767_row12_col3, #T_68767_row12_col7, #T_68767_row13_col8, #T_68767_row14_col0, #T_68767_row14_col2, #T_68767_row14_col3, #T_68767_row14_col4, #T_68767_row14_col5, #T_68767_row14_col6, #T_68767_row14_col8, #T_68767_row14_col11, #T_68767_row14_col13 {\n",
              "  background-color: #fff7fb;\n",
              "  color: #000000;\n",
              "}\n",
              "#T_68767_row0_col7, #T_68767_row12_col5, #T_68767_row12_col13 {\n",
              "  background-color: #fcf4fa;\n",
              "  color: #000000;\n",
              "}\n",
              "#T_68767_row0_col9, #T_68767_row1_col5, #T_68767_row7_col0 {\n",
              "  background-color: #faf3f9;\n",
              "  color: #000000;\n",
              "}\n",
              "#T_68767_row0_col10, #T_68767_row7_col11 {\n",
              "  background-color: #589ec8;\n",
              "  color: #f1f1f1;\n",
              "}\n",
              "#T_68767_row0_col11 {\n",
              "  background-color: #a9bfdc;\n",
              "  color: #000000;\n",
              "}\n",
              "#T_68767_row0_col14, #T_68767_row4_col7, #T_68767_row8_col3, #T_68767_row8_col14, #T_68767_row14_col9 {\n",
              "  background-color: #fef6fa;\n",
              "  color: #000000;\n",
              "}\n",
              "#T_68767_row1_col0 {\n",
              "  background-color: #ced0e6;\n",
              "  color: #000000;\n",
              "}\n",
              "#T_68767_row1_col2, #T_68767_row10_col0, #T_68767_row11_col7 {\n",
              "  background-color: #529bc7;\n",
              "  color: #f1f1f1;\n",
              "}\n",
              "#T_68767_row1_col3, #T_68767_row1_col6, #T_68767_row2_col7 {\n",
              "  background-color: #dad9ea;\n",
              "  color: #000000;\n",
              "}\n",
              "#T_68767_row1_col4 {\n",
              "  background-color: #d0d1e6;\n",
              "  color: #000000;\n",
              "}\n",
              "#T_68767_row1_col7, #T_68767_row3_col4, #T_68767_row6_col4 {\n",
              "  background-color: #71a8ce;\n",
              "  color: #f1f1f1;\n",
              "}\n",
              "#T_68767_row1_col8, #T_68767_row4_col8 {\n",
              "  background-color: #cdd0e5;\n",
              "  color: #000000;\n",
              "}\n",
              "#T_68767_row1_col9, #T_68767_row8_col2, #T_68767_row9_col1 {\n",
              "  background-color: #81aed2;\n",
              "  color: #f1f1f1;\n",
              "}\n",
              "#T_68767_row1_col10 {\n",
              "  background-color: #c2cbe2;\n",
              "  color: #000000;\n",
              "}\n",
              "#T_68767_row1_col11 {\n",
              "  background-color: #d2d3e7;\n",
              "  color: #000000;\n",
              "}\n",
              "#T_68767_row1_col12 {\n",
              "  background-color: #d1d2e6;\n",
              "  color: #000000;\n",
              "}\n",
              "#T_68767_row1_col13, #T_68767_row9_col0, #T_68767_row10_col14 {\n",
              "  background-color: #f5eff6;\n",
              "  color: #000000;\n",
              "}\n",
              "#T_68767_row1_col14, #T_68767_row11_col2 {\n",
              "  background-color: #f3edf5;\n",
              "  color: #000000;\n",
              "}\n",
              "#T_68767_row2_col0 {\n",
              "  background-color: #80aed2;\n",
              "  color: #f1f1f1;\n",
              "}\n",
              "#T_68767_row2_col1 {\n",
              "  background-color: #549cc7;\n",
              "  color: #f1f1f1;\n",
              "}\n",
              "#T_68767_row2_col3 {\n",
              "  background-color: #b7c5df;\n",
              "  color: #000000;\n",
              "}\n",
              "#T_68767_row2_col4 {\n",
              "  background-color: #c9cee4;\n",
              "  color: #000000;\n",
              "}\n",
              "#T_68767_row2_col5 {\n",
              "  background-color: #4697c4;\n",
              "  color: #f1f1f1;\n",
              "}\n",
              "#T_68767_row2_col6, #T_68767_row9_col13 {\n",
              "  background-color: #b5c4df;\n",
              "  color: #000000;\n",
              "}\n",
              "#T_68767_row2_col8 {\n",
              "  background-color: #7bacd1;\n",
              "  color: #f1f1f1;\n",
              "}\n",
              "#T_68767_row2_col9, #T_68767_row6_col13, #T_68767_row9_col2, #T_68767_row13_col3 {\n",
              "  background-color: #e5e1ef;\n",
              "  color: #000000;\n",
              "}\n",
              "#T_68767_row2_col10, #T_68767_row2_col12, #T_68767_row6_col9, #T_68767_row7_col1, #T_68767_row10_col2 {\n",
              "  background-color: #75a9cf;\n",
              "  color: #f1f1f1;\n",
              "}\n",
              "#T_68767_row2_col11 {\n",
              "  background-color: #f4eef6;\n",
              "  color: #000000;\n",
              "}\n",
              "#T_68767_row2_col13, #T_68767_row9_col7 {\n",
              "  background-color: #328dbf;\n",
              "  color: #f1f1f1;\n",
              "}\n",
              "#T_68767_row2_col14, #T_68767_row8_col9 {\n",
              "  background-color: #faf2f8;\n",
              "  color: #000000;\n",
              "}\n",
              "#T_68767_row3_col1, #T_68767_row6_col1 {\n",
              "  background-color: #e1dfed;\n",
              "  color: #000000;\n",
              "}\n",
              "#T_68767_row3_col2 {\n",
              "  background-color: #bfc9e1;\n",
              "  color: #000000;\n",
              "}\n",
              "#T_68767_row3_col7 {\n",
              "  background-color: #eee9f3;\n",
              "  color: #000000;\n",
              "}\n",
              "#T_68767_row3_col9, #T_68767_row4_col3, #T_68767_row4_col6 {\n",
              "  background-color: #73a9cf;\n",
              "  color: #f1f1f1;\n",
              "}\n",
              "#T_68767_row3_col10, #T_68767_row5_col9, #T_68767_row11_col12 {\n",
              "  background-color: #9ebad9;\n",
              "  color: #000000;\n",
              "}\n",
              "#T_68767_row3_col11 {\n",
              "  background-color: #78abd0;\n",
              "  color: #f1f1f1;\n",
              "}\n",
              "#T_68767_row3_col13 {\n",
              "  background-color: #e6e2ef;\n",
              "  color: #000000;\n",
              "}\n",
              "#T_68767_row4_col0 {\n",
              "  background-color: #c8cde4;\n",
              "  color: #000000;\n",
              "}\n",
              "#T_68767_row4_col1, #T_68767_row7_col13, #T_68767_row12_col1 {\n",
              "  background-color: #d8d7e9;\n",
              "  color: #000000;\n",
              "}\n",
              "#T_68767_row4_col2, #T_68767_row11_col1 {\n",
              "  background-color: #d2d2e7;\n",
              "  color: #000000;\n",
              "}\n",
              "#T_68767_row4_col5 {\n",
              "  background-color: #9ab8d8;\n",
              "  color: #000000;\n",
              "}\n",
              "#T_68767_row4_col9, #T_68767_row5_col7 {\n",
              "  background-color: #dddbec;\n",
              "  color: #000000;\n",
              "}\n",
              "#T_68767_row4_col10, #T_68767_row6_col2, #T_68767_row13_col9 {\n",
              "  background-color: #bcc7e1;\n",
              "  color: #000000;\n",
              "}\n",
              "#T_68767_row4_col11, #T_68767_row9_col14, #T_68767_row11_col14, #T_68767_row12_col9 {\n",
              "  background-color: #f8f1f8;\n",
              "  color: #000000;\n",
              "}\n",
              "#T_68767_row4_col12, #T_68767_row8_col4 {\n",
              "  background-color: #cccfe5;\n",
              "  color: #000000;\n",
              "}\n",
              "#T_68767_row4_col13 {\n",
              "  background-color: #7eadd1;\n",
              "  color: #f1f1f1;\n",
              "}\n",
              "#T_68767_row5_col2 {\n",
              "  background-color: #4c99c5;\n",
              "  color: #f1f1f1;\n",
              "}\n",
              "#T_68767_row5_col4 {\n",
              "  background-color: #99b8d8;\n",
              "  color: #000000;\n",
              "}\n",
              "#T_68767_row5_col10 {\n",
              "  background-color: #e3e0ee;\n",
              "  color: #000000;\n",
              "}\n",
              "#T_68767_row5_col11, #T_68767_row7_col2, #T_68767_row10_col5 {\n",
              "  background-color: #dedcec;\n",
              "  color: #000000;\n",
              "}\n",
              "#T_68767_row5_col12, #T_68767_row7_col14, #T_68767_row13_col12, #T_68767_row14_col10 {\n",
              "  background-color: #fbf4f9;\n",
              "  color: #000000;\n",
              "}\n",
              "#T_68767_row5_col13, #T_68767_row13_col5 {\n",
              "  background-color: #023b5d;\n",
              "  color: #f1f1f1;\n",
              "}\n",
              "#T_68767_row6_col7 {\n",
              "  background-color: #eee8f3;\n",
              "  color: #000000;\n",
              "}\n",
              "#T_68767_row6_col10 {\n",
              "  background-color: #9fbad9;\n",
              "  color: #000000;\n",
              "}\n",
              "#T_68767_row6_col11 {\n",
              "  background-color: #76aad0;\n",
              "  color: #f1f1f1;\n",
              "}\n",
              "#T_68767_row7_col3, #T_68767_row7_col6 {\n",
              "  background-color: #ece7f2;\n",
              "  color: #000000;\n",
              "}\n",
              "#T_68767_row7_col4, #T_68767_row8_col7, #T_68767_row13_col1 {\n",
              "  background-color: #fbf3f9;\n",
              "  color: #000000;\n",
              "}\n",
              "#T_68767_row7_col5 {\n",
              "  background-color: #dbdaeb;\n",
              "  color: #000000;\n",
              "}\n",
              "#T_68767_row7_col8, #T_68767_row14_col1 {\n",
              "  background-color: #f9f2f8;\n",
              "  color: #000000;\n",
              "}\n",
              "#T_68767_row7_col9 {\n",
              "  background-color: #358fc0;\n",
              "  color: #f1f1f1;\n",
              "}\n",
              "#T_68767_row7_col10, #T_68767_row10_col6 {\n",
              "  background-color: #97b7d7;\n",
              "  color: #000000;\n",
              "}\n",
              "#T_68767_row7_col12, #T_68767_row12_col14 {\n",
              "  background-color: #fdf5fa;\n",
              "  color: #000000;\n",
              "}\n",
              "#T_68767_row8_col1 {\n",
              "  background-color: #d4d4e8;\n",
              "  color: #000000;\n",
              "}\n",
              "#T_68767_row8_col10, #T_68767_row12_col10 {\n",
              "  background-color: #569dc8;\n",
              "  color: #f1f1f1;\n",
              "}\n",
              "#T_68767_row8_col11 {\n",
              "  background-color: #adc1dd;\n",
              "  color: #000000;\n",
              "}\n",
              "#T_68767_row9_col3 {\n",
              "  background-color: #6ba5cd;\n",
              "  color: #f1f1f1;\n",
              "}\n",
              "#T_68767_row9_col4, #T_68767_row11_col5 {\n",
              "  background-color: #d6d6e9;\n",
              "  color: #000000;\n",
              "}\n",
              "#T_68767_row9_col5, #T_68767_row10_col3 {\n",
              "  background-color: #96b6d7;\n",
              "  color: #000000;\n",
              "}\n",
              "#T_68767_row9_col6, #T_68767_row11_col3, #T_68767_row11_col6 {\n",
              "  background-color: #6da6cd;\n",
              "  color: #f1f1f1;\n",
              "}\n",
              "#T_68767_row9_col8 {\n",
              "  background-color: #f5eef6;\n",
              "  color: #000000;\n",
              "}\n",
              "#T_68767_row9_col11 {\n",
              "  background-color: #f2ecf5;\n",
              "  color: #000000;\n",
              "}\n",
              "#T_68767_row9_col12 {\n",
              "  background-color: #f4edf6;\n",
              "  color: #000000;\n",
              "}\n",
              "#T_68767_row10_col1 {\n",
              "  background-color: #c4cbe3;\n",
              "  color: #000000;\n",
              "}\n",
              "#T_68767_row10_col4 {\n",
              "  background-color: #b4c4df;\n",
              "  color: #000000;\n",
              "}\n",
              "#T_68767_row10_col7 {\n",
              "  background-color: #94b6d7;\n",
              "  color: #000000;\n",
              "}\n",
              "#T_68767_row10_col8, #T_68767_row10_col12 {\n",
              "  background-color: #4e9ac6;\n",
              "  color: #f1f1f1;\n",
              "}\n",
              "#T_68767_row10_col11, #T_68767_row11_col8 {\n",
              "  background-color: #a4bcda;\n",
              "  color: #000000;\n",
              "}\n",
              "#T_68767_row10_col13 {\n",
              "  background-color: #ede7f2;\n",
              "  color: #000000;\n",
              "}\n",
              "#T_68767_row11_col0, #T_68767_row11_col10 {\n",
              "  background-color: #a1bbda;\n",
              "  color: #000000;\n",
              "}\n",
              "#T_68767_row11_col4 {\n",
              "  background-color: #f1ebf4;\n",
              "  color: #000000;\n",
              "}\n",
              "#T_68767_row11_col9, #T_68767_row13_col11 {\n",
              "  background-color: #f0eaf4;\n",
              "  color: #000000;\n",
              "}\n",
              "#T_68767_row11_col13 {\n",
              "  background-color: #e9e5f1;\n",
              "  color: #000000;\n",
              "}\n",
              "#T_68767_row12_col2, #T_68767_row13_col4 {\n",
              "  background-color: #7dacd1;\n",
              "  color: #f1f1f1;\n",
              "}\n",
              "#T_68767_row12_col4 {\n",
              "  background-color: #cacee5;\n",
              "  color: #000000;\n",
              "}\n",
              "#T_68767_row12_col11 {\n",
              "  background-color: #a8bedc;\n",
              "  color: #000000;\n",
              "}\n",
              "#T_68767_row13_col2 {\n",
              "  background-color: #3790c0;\n",
              "  color: #f1f1f1;\n",
              "}\n",
              "#T_68767_row13_col6 {\n",
              "  background-color: #e4e1ef;\n",
              "  color: #000000;\n",
              "}\n",
              "#T_68767_row13_col7 {\n",
              "  background-color: #d9d8ea;\n",
              "  color: #000000;\n",
              "}\n",
              "#T_68767_row13_col10 {\n",
              "  background-color: #f1ebf5;\n",
              "  color: #000000;\n",
              "}\n",
              "</style>\n",
              "<table id=\"T_68767_\" class=\"dataframe\">\n",
              "  <thead>\n",
              "    <tr>\n",
              "      <th class=\"blank level0\" >&nbsp;</th>\n",
              "      <th class=\"col_heading level0 col0\" >AF3</th>\n",
              "      <th class=\"col_heading level0 col1\" >F7</th>\n",
              "      <th class=\"col_heading level0 col2\" >F3</th>\n",
              "      <th class=\"col_heading level0 col3\" >FC5</th>\n",
              "      <th class=\"col_heading level0 col4\" >T7</th>\n",
              "      <th class=\"col_heading level0 col5\" >P7</th>\n",
              "      <th class=\"col_heading level0 col6\" >O1</th>\n",
              "      <th class=\"col_heading level0 col7\" >O2</th>\n",
              "      <th class=\"col_heading level0 col8\" >P8</th>\n",
              "      <th class=\"col_heading level0 col9\" >T8</th>\n",
              "      <th class=\"col_heading level0 col10\" >FC6</th>\n",
              "      <th class=\"col_heading level0 col11\" >F4</th>\n",
              "      <th class=\"col_heading level0 col12\" >F8</th>\n",
              "      <th class=\"col_heading level0 col13\" >AF4</th>\n",
              "      <th class=\"col_heading level0 col14\" >eyeDetection</th>\n",
              "    </tr>\n",
              "  </thead>\n",
              "  <tbody>\n",
              "    <tr>\n",
              "      <th id=\"T_68767_level0_row0\" class=\"row_heading level0 row0\" >AF3</th>\n",
              "      <td id=\"T_68767_row0_col0\" class=\"data row0 col0\" >1.000000</td>\n",
              "      <td id=\"T_68767_row0_col1\" class=\"data row0 col1\" >0.261146</td>\n",
              "      <td id=\"T_68767_row0_col2\" class=\"data row0 col2\" >0.474569</td>\n",
              "      <td id=\"T_68767_row0_col3\" class=\"data row0 col3\" >0.012173</td>\n",
              "      <td id=\"T_68767_row0_col4\" class=\"data row0 col4\" >0.278938</td>\n",
              "      <td id=\"T_68767_row0_col5\" class=\"data row0 col5\" >0.007958</td>\n",
              "      <td id=\"T_68767_row0_col6\" class=\"data row0 col6\" >0.006630</td>\n",
              "      <td id=\"T_68767_row0_col7\" class=\"data row0 col7\" >0.040539</td>\n",
              "      <td id=\"T_68767_row0_col8\" class=\"data row0 col8\" >0.999607</td>\n",
              "      <td id=\"T_68767_row0_col9\" class=\"data row0 col9\" >0.070801</td>\n",
              "      <td id=\"T_68767_row0_col10\" class=\"data row0 col10\" >0.572997</td>\n",
              "      <td id=\"T_68767_row0_col11\" class=\"data row0 col11\" >0.394334</td>\n",
              "      <td id=\"T_68767_row0_col12\" class=\"data row0 col12\" >0.998714</td>\n",
              "      <td id=\"T_68767_row0_col13\" class=\"data row0 col13\" >0.012070</td>\n",
              "      <td id=\"T_68767_row0_col14\" class=\"data row0 col14\" >0.010458</td>\n",
              "    </tr>\n",
              "    <tr>\n",
              "      <th id=\"T_68767_level0_row1\" class=\"row_heading level0 row1\" >F7</th>\n",
              "      <td id=\"T_68767_row1_col0\" class=\"data row1 col0\" >0.261146</td>\n",
              "      <td id=\"T_68767_row1_col1\" class=\"data row1 col1\" >1.000000</td>\n",
              "      <td id=\"T_68767_row1_col2\" class=\"data row1 col2\" >0.583317</td>\n",
              "      <td id=\"T_68767_row1_col3\" class=\"data row1 col3\" >0.208922</td>\n",
              "      <td id=\"T_68767_row1_col4\" class=\"data row1 col4\" >0.250816</td>\n",
              "      <td id=\"T_68767_row1_col5\" class=\"data row1 col5\" >0.042288</td>\n",
              "      <td id=\"T_68767_row1_col6\" class=\"data row1 col6\" >0.210591</td>\n",
              "      <td id=\"T_68767_row1_col7\" class=\"data row1 col7\" >0.517816</td>\n",
              "      <td id=\"T_68767_row1_col8\" class=\"data row1 col8\" >0.264922</td>\n",
              "      <td id=\"T_68767_row1_col9\" class=\"data row1 col9\" >0.489010</td>\n",
              "      <td id=\"T_68767_row1_col10\" class=\"data row1 col10\" >0.317418</td>\n",
              "      <td id=\"T_68767_row1_col11\" class=\"data row1 col11\" >0.275977</td>\n",
              "      <td id=\"T_68767_row1_col12\" class=\"data row1 col12\" >0.251327</td>\n",
              "      <td id=\"T_68767_row1_col13\" class=\"data row1 col13\" >0.071895</td>\n",
              "      <td id=\"T_68767_row1_col14\" class=\"data row1 col14\" >0.079994</td>\n",
              "    </tr>\n",
              "    <tr>\n",
              "      <th id=\"T_68767_level0_row2\" class=\"row_heading level0 row2\" >F3</th>\n",
              "      <td id=\"T_68767_row2_col0\" class=\"data row2 col0\" >0.474569</td>\n",
              "      <td id=\"T_68767_row2_col1\" class=\"data row2 col1\" >0.583317</td>\n",
              "      <td id=\"T_68767_row2_col2\" class=\"data row2 col2\" >1.000000</td>\n",
              "      <td id=\"T_68767_row2_col3\" class=\"data row2 col3\" >0.330162</td>\n",
              "      <td id=\"T_68767_row2_col4\" class=\"data row2 col4\" >0.272186</td>\n",
              "      <td id=\"T_68767_row2_col5\" class=\"data row2 col5\" >0.596566</td>\n",
              "      <td id=\"T_68767_row2_col6\" class=\"data row2 col6\" >0.335514</td>\n",
              "      <td id=\"T_68767_row2_col7\" class=\"data row2 col7\" >0.221270</td>\n",
              "      <td id=\"T_68767_row2_col8\" class=\"data row2 col8\" >0.486506</td>\n",
              "      <td id=\"T_68767_row2_col9\" class=\"data row2 col9\" >0.191273</td>\n",
              "      <td id=\"T_68767_row2_col10\" class=\"data row2 col10\" >0.517950</td>\n",
              "      <td id=\"T_68767_row2_col11\" class=\"data row2 col11\" >0.116761</td>\n",
              "      <td id=\"T_68767_row2_col12\" class=\"data row2 col12\" >0.500276</td>\n",
              "      <td id=\"T_68767_row2_col13\" class=\"data row2 col13\" >0.637363</td>\n",
              "      <td id=\"T_68767_row2_col14\" class=\"data row2 col14\" >0.038902</td>\n",
              "    </tr>\n",
              "    <tr>\n",
              "      <th id=\"T_68767_level0_row3\" class=\"row_heading level0 row3\" >FC5</th>\n",
              "      <td id=\"T_68767_row3_col0\" class=\"data row3 col0\" >0.012173</td>\n",
              "      <td id=\"T_68767_row3_col1\" class=\"data row3 col1\" >0.208922</td>\n",
              "      <td id=\"T_68767_row3_col2\" class=\"data row3 col2\" >0.330162</td>\n",
              "      <td id=\"T_68767_row3_col3\" class=\"data row3 col3\" >1.000000</td>\n",
              "      <td id=\"T_68767_row3_col4\" class=\"data row3 col4\" >0.504616</td>\n",
              "      <td id=\"T_68767_row3_col5\" class=\"data row3 col5\" >0.009049</td>\n",
              "      <td id=\"T_68767_row3_col6\" class=\"data row3 col6\" >0.999961</td>\n",
              "      <td id=\"T_68767_row3_col7\" class=\"data row3 col7\" >0.130482</td>\n",
              "      <td id=\"T_68767_row3_col8\" class=\"data row3 col8\" >0.013228</td>\n",
              "      <td id=\"T_68767_row3_col9\" class=\"data row3 col9\" >0.519498</td>\n",
              "      <td id=\"T_68767_row3_col10\" class=\"data row3 col10\" >0.420311</td>\n",
              "      <td id=\"T_68767_row3_col11\" class=\"data row3 col11\" >0.515388</td>\n",
              "      <td id=\"T_68767_row3_col12\" class=\"data row3 col12\" >0.005351</td>\n",
              "      <td id=\"T_68767_row3_col13\" class=\"data row3 col13\" >0.161155</td>\n",
              "      <td id=\"T_68767_row3_col14\" class=\"data row3 col14\" >0.007531</td>\n",
              "    </tr>\n",
              "    <tr>\n",
              "      <th id=\"T_68767_level0_row4\" class=\"row_heading level0 row4\" >T7</th>\n",
              "      <td id=\"T_68767_row4_col0\" class=\"data row4 col0\" >0.278938</td>\n",
              "      <td id=\"T_68767_row4_col1\" class=\"data row4 col1\" >0.250816</td>\n",
              "      <td id=\"T_68767_row4_col2\" class=\"data row4 col2\" >0.272186</td>\n",
              "      <td id=\"T_68767_row4_col3\" class=\"data row4 col3\" >0.504616</td>\n",
              "      <td id=\"T_68767_row4_col4\" class=\"data row4 col4\" >1.000000</td>\n",
              "      <td id=\"T_68767_row4_col5\" class=\"data row4 col5\" >0.409277</td>\n",
              "      <td id=\"T_68767_row4_col6\" class=\"data row4 col6\" >0.504231</td>\n",
              "      <td id=\"T_68767_row4_col7\" class=\"data row4 col7\" >0.030063</td>\n",
              "      <td id=\"T_68767_row4_col8\" class=\"data row4 col8\" >0.264913</td>\n",
              "      <td id=\"T_68767_row4_col9\" class=\"data row4 col9\" >0.225508</td>\n",
              "      <td id=\"T_68767_row4_col10\" class=\"data row4 col10\" >0.336173</td>\n",
              "      <td id=\"T_68767_row4_col11\" class=\"data row4 col11\" >0.095902</td>\n",
              "      <td id=\"T_68767_row4_col12\" class=\"data row4 col12\" >0.267107</td>\n",
              "      <td id=\"T_68767_row4_col13\" class=\"data row4 col13\" >0.478852</td>\n",
              "      <td id=\"T_68767_row4_col14\" class=\"data row4 col14\" >0.000369</td>\n",
              "    </tr>\n",
              "    <tr>\n",
              "      <th id=\"T_68767_level0_row5\" class=\"row_heading level0 row5\" >P7</th>\n",
              "      <td id=\"T_68767_row5_col0\" class=\"data row5 col0\" >0.007958</td>\n",
              "      <td id=\"T_68767_row5_col1\" class=\"data row5 col1\" >0.042288</td>\n",
              "      <td id=\"T_68767_row5_col2\" class=\"data row5 col2\" >0.596566</td>\n",
              "      <td id=\"T_68767_row5_col3\" class=\"data row5 col3\" >0.009049</td>\n",
              "      <td id=\"T_68767_row5_col4\" class=\"data row5 col4\" >0.409277</td>\n",
              "      <td id=\"T_68767_row5_col5\" class=\"data row5 col5\" >1.000000</td>\n",
              "      <td id=\"T_68767_row5_col6\" class=\"data row5 col6\" >0.013707</td>\n",
              "      <td id=\"T_68767_row5_col7\" class=\"data row5 col7\" >0.208167</td>\n",
              "      <td id=\"T_68767_row5_col8\" class=\"data row5 col8\" >0.012528</td>\n",
              "      <td id=\"T_68767_row5_col9\" class=\"data row5 col9\" >0.420539</td>\n",
              "      <td id=\"T_68767_row5_col10\" class=\"data row5 col10\" >0.196873</td>\n",
              "      <td id=\"T_68767_row5_col11\" class=\"data row5 col11\" >0.229149</td>\n",
              "      <td id=\"T_68767_row5_col12\" class=\"data row5 col12\" >0.030921</td>\n",
              "      <td id=\"T_68767_row5_col13\" class=\"data row5 col13\" >0.988310</td>\n",
              "      <td id=\"T_68767_row5_col14\" class=\"data row5 col14\" >0.007845</td>\n",
              "    </tr>\n",
              "    <tr>\n",
              "      <th id=\"T_68767_level0_row6\" class=\"row_heading level0 row6\" >O1</th>\n",
              "      <td id=\"T_68767_row6_col0\" class=\"data row6 col0\" >0.006630</td>\n",
              "      <td id=\"T_68767_row6_col1\" class=\"data row6 col1\" >0.210591</td>\n",
              "      <td id=\"T_68767_row6_col2\" class=\"data row6 col2\" >0.335514</td>\n",
              "      <td id=\"T_68767_row6_col3\" class=\"data row6 col3\" >0.999961</td>\n",
              "      <td id=\"T_68767_row6_col4\" class=\"data row6 col4\" >0.504231</td>\n",
              "      <td id=\"T_68767_row6_col5\" class=\"data row6 col5\" >0.013707</td>\n",
              "      <td id=\"T_68767_row6_col6\" class=\"data row6 col6\" >1.000000</td>\n",
              "      <td id=\"T_68767_row6_col7\" class=\"data row6 col7\" >0.133434</td>\n",
              "      <td id=\"T_68767_row6_col8\" class=\"data row6 col8\" >0.007638</td>\n",
              "      <td id=\"T_68767_row6_col9\" class=\"data row6 col9\" >0.515699</td>\n",
              "      <td id=\"T_68767_row6_col10\" class=\"data row6 col10\" >0.417041</td>\n",
              "      <td id=\"T_68767_row6_col11\" class=\"data row6 col11\" >0.517621</td>\n",
              "      <td id=\"T_68767_row6_col12\" class=\"data row6 col12\" >0.011080</td>\n",
              "      <td id=\"T_68767_row6_col13\" class=\"data row6 col13\" >0.165730</td>\n",
              "      <td id=\"T_68767_row6_col14\" class=\"data row6 col14\" >0.007223</td>\n",
              "    </tr>\n",
              "    <tr>\n",
              "      <th id=\"T_68767_level0_row7\" class=\"row_heading level0 row7\" >O2</th>\n",
              "      <td id=\"T_68767_row7_col0\" class=\"data row7 col0\" >0.040539</td>\n",
              "      <td id=\"T_68767_row7_col1\" class=\"data row7 col1\" >0.517816</td>\n",
              "      <td id=\"T_68767_row7_col2\" class=\"data row7 col2\" >0.221270</td>\n",
              "      <td id=\"T_68767_row7_col3\" class=\"data row7 col3\" >0.130482</td>\n",
              "      <td id=\"T_68767_row7_col4\" class=\"data row7 col4\" >0.030063</td>\n",
              "      <td id=\"T_68767_row7_col5\" class=\"data row7 col5\" >0.208167</td>\n",
              "      <td id=\"T_68767_row7_col6\" class=\"data row7 col6\" >0.133434</td>\n",
              "      <td id=\"T_68767_row7_col7\" class=\"data row7 col7\" >1.000000</td>\n",
              "      <td id=\"T_68767_row7_col8\" class=\"data row7 col8\" >0.047843</td>\n",
              "      <td id=\"T_68767_row7_col9\" class=\"data row7 col9\" >0.640387</td>\n",
              "      <td id=\"T_68767_row7_col10\" class=\"data row7 col10\" >0.433333</td>\n",
              "      <td id=\"T_68767_row7_col11\" class=\"data row7 col11\" >0.577013</td>\n",
              "      <td id=\"T_68767_row7_col12\" class=\"data row7 col12\" >0.020493</td>\n",
              "      <td id=\"T_68767_row7_col13\" class=\"data row7 col13\" >0.224627</td>\n",
              "      <td id=\"T_68767_row7_col14\" class=\"data row7 col14\" >0.025100</td>\n",
              "    </tr>\n",
              "    <tr>\n",
              "      <th id=\"T_68767_level0_row8\" class=\"row_heading level0 row8\" >P8</th>\n",
              "      <td id=\"T_68767_row8_col0\" class=\"data row8 col0\" >0.999607</td>\n",
              "      <td id=\"T_68767_row8_col1\" class=\"data row8 col1\" >0.264922</td>\n",
              "      <td id=\"T_68767_row8_col2\" class=\"data row8 col2\" >0.486506</td>\n",
              "      <td id=\"T_68767_row8_col3\" class=\"data row8 col3\" >0.013228</td>\n",
              "      <td id=\"T_68767_row8_col4\" class=\"data row8 col4\" >0.264913</td>\n",
              "      <td id=\"T_68767_row8_col5\" class=\"data row8 col5\" >0.012528</td>\n",
              "      <td id=\"T_68767_row8_col6\" class=\"data row8 col6\" >0.007638</td>\n",
              "      <td id=\"T_68767_row8_col7\" class=\"data row8 col7\" >0.047843</td>\n",
              "      <td id=\"T_68767_row8_col8\" class=\"data row8 col8\" >1.000000</td>\n",
              "      <td id=\"T_68767_row8_col9\" class=\"data row8 col9\" >0.074047</td>\n",
              "      <td id=\"T_68767_row8_col10\" class=\"data row8 col10\" >0.577472</td>\n",
              "      <td id=\"T_68767_row8_col11\" class=\"data row8 col11\" >0.385643</td>\n",
              "      <td id=\"T_68767_row8_col12\" class=\"data row8 col12\" >0.998849</td>\n",
              "      <td id=\"T_68767_row8_col13\" class=\"data row8 col13\" >0.008055</td>\n",
              "      <td id=\"T_68767_row8_col14\" class=\"data row8 col14\" >0.009576</td>\n",
              "    </tr>\n",
              "    <tr>\n",
              "      <th id=\"T_68767_level0_row9\" class=\"row_heading level0 row9\" >T8</th>\n",
              "      <td id=\"T_68767_row9_col0\" class=\"data row9 col0\" >0.070801</td>\n",
              "      <td id=\"T_68767_row9_col1\" class=\"data row9 col1\" >0.489010</td>\n",
              "      <td id=\"T_68767_row9_col2\" class=\"data row9 col2\" >0.191273</td>\n",
              "      <td id=\"T_68767_row9_col3\" class=\"data row9 col3\" >0.519498</td>\n",
              "      <td id=\"T_68767_row9_col4\" class=\"data row9 col4\" >0.225508</td>\n",
              "      <td id=\"T_68767_row9_col5\" class=\"data row9 col5\" >0.420539</td>\n",
              "      <td id=\"T_68767_row9_col6\" class=\"data row9 col6\" >0.515699</td>\n",
              "      <td id=\"T_68767_row9_col7\" class=\"data row9 col7\" >0.640387</td>\n",
              "      <td id=\"T_68767_row9_col8\" class=\"data row9 col8\" >0.074047</td>\n",
              "      <td id=\"T_68767_row9_col9\" class=\"data row9 col9\" >1.000000</td>\n",
              "      <td id=\"T_68767_row9_col10\" class=\"data row9 col10\" >0.038252</td>\n",
              "      <td id=\"T_68767_row9_col11\" class=\"data row9 col11\" >0.132692</td>\n",
              "      <td id=\"T_68767_row9_col12\" class=\"data row9 col12\" >0.082256</td>\n",
              "      <td id=\"T_68767_row9_col13\" class=\"data row9 col13\" >0.336282</td>\n",
              "      <td id=\"T_68767_row9_col14\" class=\"data row9 col14\" >0.047218</td>\n",
              "    </tr>\n",
              "    <tr>\n",
              "      <th id=\"T_68767_level0_row10\" class=\"row_heading level0 row10\" >FC6</th>\n",
              "      <td id=\"T_68767_row10_col0\" class=\"data row10 col0\" >0.572997</td>\n",
              "      <td id=\"T_68767_row10_col1\" class=\"data row10 col1\" >0.317418</td>\n",
              "      <td id=\"T_68767_row10_col2\" class=\"data row10 col2\" >0.517950</td>\n",
              "      <td id=\"T_68767_row10_col3\" class=\"data row10 col3\" >0.420311</td>\n",
              "      <td id=\"T_68767_row10_col4\" class=\"data row10 col4\" >0.336173</td>\n",
              "      <td id=\"T_68767_row10_col5\" class=\"data row10 col5\" >0.196873</td>\n",
              "      <td id=\"T_68767_row10_col6\" class=\"data row10 col6\" >0.417041</td>\n",
              "      <td id=\"T_68767_row10_col7\" class=\"data row10 col7\" >0.433333</td>\n",
              "      <td id=\"T_68767_row10_col8\" class=\"data row10 col8\" >0.577472</td>\n",
              "      <td id=\"T_68767_row10_col9\" class=\"data row10 col9\" >0.038252</td>\n",
              "      <td id=\"T_68767_row10_col10\" class=\"data row10 col10\" >1.000000</td>\n",
              "      <td id=\"T_68767_row10_col11\" class=\"data row10 col11\" >0.411682</td>\n",
              "      <td id=\"T_68767_row10_col12\" class=\"data row10 col12\" >0.577408</td>\n",
              "      <td id=\"T_68767_row10_col13\" class=\"data row10 col13\" >0.127763</td>\n",
              "      <td id=\"T_68767_row10_col14\" class=\"data row10 col14\" >0.064294</td>\n",
              "    </tr>\n",
              "    <tr>\n",
              "      <th id=\"T_68767_level0_row11\" class=\"row_heading level0 row11\" >F4</th>\n",
              "      <td id=\"T_68767_row11_col0\" class=\"data row11 col0\" >0.394334</td>\n",
              "      <td id=\"T_68767_row11_col1\" class=\"data row11 col1\" >0.275977</td>\n",
              "      <td id=\"T_68767_row11_col2\" class=\"data row11 col2\" >0.116761</td>\n",
              "      <td id=\"T_68767_row11_col3\" class=\"data row11 col3\" >0.515388</td>\n",
              "      <td id=\"T_68767_row11_col4\" class=\"data row11 col4\" >0.095902</td>\n",
              "      <td id=\"T_68767_row11_col5\" class=\"data row11 col5\" >0.229149</td>\n",
              "      <td id=\"T_68767_row11_col6\" class=\"data row11 col6\" >0.517621</td>\n",
              "      <td id=\"T_68767_row11_col7\" class=\"data row11 col7\" >0.577013</td>\n",
              "      <td id=\"T_68767_row11_col8\" class=\"data row11 col8\" >0.385643</td>\n",
              "      <td id=\"T_68767_row11_col9\" class=\"data row11 col9\" >0.132692</td>\n",
              "      <td id=\"T_68767_row11_col10\" class=\"data row11 col10\" >0.411682</td>\n",
              "      <td id=\"T_68767_row11_col11\" class=\"data row11 col11\" >1.000000</td>\n",
              "      <td id=\"T_68767_row11_col12\" class=\"data row11 col12\" >0.399400</td>\n",
              "      <td id=\"T_68767_row11_col13\" class=\"data row11 col13\" >0.146960</td>\n",
              "      <td id=\"T_68767_row11_col14\" class=\"data row11 col14\" >0.047965</td>\n",
              "    </tr>\n",
              "    <tr>\n",
              "      <th id=\"T_68767_level0_row12\" class=\"row_heading level0 row12\" >F8</th>\n",
              "      <td id=\"T_68767_row12_col0\" class=\"data row12 col0\" >0.998714</td>\n",
              "      <td id=\"T_68767_row12_col1\" class=\"data row12 col1\" >0.251327</td>\n",
              "      <td id=\"T_68767_row12_col2\" class=\"data row12 col2\" >0.500276</td>\n",
              "      <td id=\"T_68767_row12_col3\" class=\"data row12 col3\" >0.005351</td>\n",
              "      <td id=\"T_68767_row12_col4\" class=\"data row12 col4\" >0.267107</td>\n",
              "      <td id=\"T_68767_row12_col5\" class=\"data row12 col5\" >0.030921</td>\n",
              "      <td id=\"T_68767_row12_col6\" class=\"data row12 col6\" >0.011080</td>\n",
              "      <td id=\"T_68767_row12_col7\" class=\"data row12 col7\" >0.020493</td>\n",
              "      <td id=\"T_68767_row12_col8\" class=\"data row12 col8\" >0.998849</td>\n",
              "      <td id=\"T_68767_row12_col9\" class=\"data row12 col9\" >0.082256</td>\n",
              "      <td id=\"T_68767_row12_col10\" class=\"data row12 col10\" >0.577408</td>\n",
              "      <td id=\"T_68767_row12_col11\" class=\"data row12 col11\" >0.399400</td>\n",
              "      <td id=\"T_68767_row12_col12\" class=\"data row12 col12\" >1.000000</td>\n",
              "      <td id=\"T_68767_row12_col13\" class=\"data row12 col13\" >0.028968</td>\n",
              "      <td id=\"T_68767_row12_col14\" class=\"data row12 col14\" >0.013120</td>\n",
              "    </tr>\n",
              "    <tr>\n",
              "      <th id=\"T_68767_level0_row13\" class=\"row_heading level0 row13\" >AF4</th>\n",
              "      <td id=\"T_68767_row13_col0\" class=\"data row13 col0\" >0.012070</td>\n",
              "      <td id=\"T_68767_row13_col1\" class=\"data row13 col1\" >0.071895</td>\n",
              "      <td id=\"T_68767_row13_col2\" class=\"data row13 col2\" >0.637363</td>\n",
              "      <td id=\"T_68767_row13_col3\" class=\"data row13 col3\" >0.161155</td>\n",
              "      <td id=\"T_68767_row13_col4\" class=\"data row13 col4\" >0.478852</td>\n",
              "      <td id=\"T_68767_row13_col5\" class=\"data row13 col5\" >0.988310</td>\n",
              "      <td id=\"T_68767_row13_col6\" class=\"data row13 col6\" >0.165730</td>\n",
              "      <td id=\"T_68767_row13_col7\" class=\"data row13 col7\" >0.224627</td>\n",
              "      <td id=\"T_68767_row13_col8\" class=\"data row13 col8\" >0.008055</td>\n",
              "      <td id=\"T_68767_row13_col9\" class=\"data row13 col9\" >0.336282</td>\n",
              "      <td id=\"T_68767_row13_col10\" class=\"data row13 col10\" >0.127763</td>\n",
              "      <td id=\"T_68767_row13_col11\" class=\"data row13 col11\" >0.146960</td>\n",
              "      <td id=\"T_68767_row13_col12\" class=\"data row13 col12\" >0.028968</td>\n",
              "      <td id=\"T_68767_row13_col13\" class=\"data row13 col13\" >1.000000</td>\n",
              "      <td id=\"T_68767_row13_col14\" class=\"data row13 col14\" >0.007550</td>\n",
              "    </tr>\n",
              "    <tr>\n",
              "      <th id=\"T_68767_level0_row14\" class=\"row_heading level0 row14\" >eyeDetection</th>\n",
              "      <td id=\"T_68767_row14_col0\" class=\"data row14 col0\" >0.010458</td>\n",
              "      <td id=\"T_68767_row14_col1\" class=\"data row14 col1\" >0.079994</td>\n",
              "      <td id=\"T_68767_row14_col2\" class=\"data row14 col2\" >0.038902</td>\n",
              "      <td id=\"T_68767_row14_col3\" class=\"data row14 col3\" >0.007531</td>\n",
              "      <td id=\"T_68767_row14_col4\" class=\"data row14 col4\" >0.000369</td>\n",
              "      <td id=\"T_68767_row14_col5\" class=\"data row14 col5\" >0.007845</td>\n",
              "      <td id=\"T_68767_row14_col6\" class=\"data row14 col6\" >0.007223</td>\n",
              "      <td id=\"T_68767_row14_col7\" class=\"data row14 col7\" >0.025100</td>\n",
              "      <td id=\"T_68767_row14_col8\" class=\"data row14 col8\" >0.009576</td>\n",
              "      <td id=\"T_68767_row14_col9\" class=\"data row14 col9\" >0.047218</td>\n",
              "      <td id=\"T_68767_row14_col10\" class=\"data row14 col10\" >0.064294</td>\n",
              "      <td id=\"T_68767_row14_col11\" class=\"data row14 col11\" >0.047965</td>\n",
              "      <td id=\"T_68767_row14_col12\" class=\"data row14 col12\" >0.013120</td>\n",
              "      <td id=\"T_68767_row14_col13\" class=\"data row14 col13\" >0.007550</td>\n",
              "      <td id=\"T_68767_row14_col14\" class=\"data row14 col14\" >1.000000</td>\n",
              "    </tr>\n",
              "  </tbody>\n",
              "</table>\n"
            ]
          },
          "metadata": {},
          "execution_count": 82
        }
      ]
    },
    {
      "cell_type": "code",
      "source": [
        "df.info()"
      ],
      "metadata": {
        "colab": {
          "base_uri": "https://localhost:8080/"
        },
        "id": "ekUTZdbmM4Pi",
        "outputId": "6f1679ba-9b18-45ae-89ac-e2a80d2a779c"
      },
      "execution_count": 83,
      "outputs": [
        {
          "output_type": "stream",
          "name": "stdout",
          "text": [
            "<class 'pandas.core.frame.DataFrame'>\n",
            "RangeIndex: 14980 entries, 0 to 14979\n",
            "Data columns (total 15 columns):\n",
            " #   Column        Non-Null Count  Dtype  \n",
            "---  ------        --------------  -----  \n",
            " 0   AF3           14980 non-null  float64\n",
            " 1   F7            14980 non-null  float64\n",
            " 2   F3            14980 non-null  float64\n",
            " 3   FC5           14980 non-null  float64\n",
            " 4   T7            14980 non-null  float64\n",
            " 5   P7            14980 non-null  float64\n",
            " 6   O1            14980 non-null  float64\n",
            " 7   O2            14980 non-null  float64\n",
            " 8   P8            14980 non-null  float64\n",
            " 9   T8            14980 non-null  float64\n",
            " 10  FC6           14980 non-null  float64\n",
            " 11  F4            14980 non-null  float64\n",
            " 12  F8            14980 non-null  float64\n",
            " 13  AF4           14980 non-null  float64\n",
            " 14  eyeDetection  14980 non-null  int64  \n",
            "dtypes: float64(14), int64(1)\n",
            "memory usage: 1.7 MB\n"
          ]
        }
      ]
    },
    {
      "cell_type": "code",
      "source": [
        "#upper_tri = df_corr.where(np.triu(np.ones(df_corr.shape),k=1).astype(np.bool))\n",
        "#print(upper_tri)"
      ],
      "metadata": {
        "id": "1NweQUlihGwl"
      },
      "execution_count": 84,
      "outputs": []
    },
    {
      "cell_type": "code",
      "source": [
        "#to_drop = [column for column in upper_tri.columns if any(upper_tri[column] > 0.75)]"
      ],
      "metadata": {
        "id": "1YYYXYMGhGzc"
      },
      "execution_count": 85,
      "outputs": []
    },
    {
      "cell_type": "code",
      "source": [
        "#to_drop"
      ],
      "metadata": {
        "id": "I656BfyFhG2L"
      },
      "execution_count": 86,
      "outputs": []
    },
    {
      "cell_type": "code",
      "source": [
        "#df_new= df.drop(to_drop, axis=1)"
      ],
      "metadata": {
        "id": "548VZLwoiXOS"
      },
      "execution_count": 87,
      "outputs": []
    },
    {
      "cell_type": "code",
      "source": [
        "#df_new.info()"
      ],
      "metadata": {
        "id": "nDsRzCYSi4k6"
      },
      "execution_count": 88,
      "outputs": []
    },
    {
      "cell_type": "code",
      "source": [
        "\n"
      ],
      "metadata": {
        "id": "nquRlVmzlijz"
      },
      "execution_count": 88,
      "outputs": []
    },
    {
      "cell_type": "code",
      "source": [
        "df_0= df[df['eyeDetection']==0]\n",
        "df_1=df[df['eyeDetection']==1]\n",
        "df_O_sample=df_0.sample(n=600)\n",
        "df_1_sample=df_1.sample(df_O_sample.shape[0])\n",
        "\n",
        "df_new_= pd.concat([df_O_sample, df_1_sample])"
      ],
      "metadata": {
        "id": "e8hJgj22i4ng"
      },
      "execution_count": 89,
      "outputs": []
    },
    {
      "cell_type": "code",
      "source": [
        ""
      ],
      "metadata": {
        "id": "617Dn9jNmwUm"
      },
      "execution_count": 89,
      "outputs": []
    },
    {
      "cell_type": "code",
      "source": [
        "df_new_.isna().sum().sort_values()"
      ],
      "metadata": {
        "colab": {
          "base_uri": "https://localhost:8080/"
        },
        "id": "SMi3VRNTM4R0",
        "outputId": "624bcdff-0dd0-46d2-c9e1-a57b282619c4"
      },
      "execution_count": 90,
      "outputs": [
        {
          "output_type": "execute_result",
          "data": {
            "text/plain": [
              "AF3             0\n",
              "F7              0\n",
              "F3              0\n",
              "FC5             0\n",
              "T7              0\n",
              "P7              0\n",
              "O1              0\n",
              "O2              0\n",
              "P8              0\n",
              "T8              0\n",
              "FC6             0\n",
              "F4              0\n",
              "F8              0\n",
              "AF4             0\n",
              "eyeDetection    0\n",
              "dtype: int64"
            ]
          },
          "metadata": {},
          "execution_count": 90
        }
      ]
    },
    {
      "cell_type": "code",
      "source": [
        "features= df_new_.drop('eyeDetection', axis=1).values\n",
        "labels=df_new_['eyeDetection'].values"
      ],
      "metadata": {
        "id": "b7XnUd5zM4UG"
      },
      "execution_count": 91,
      "outputs": []
    },
    {
      "cell_type": "code",
      "source": [
        "X_train, X_test, y_train, y_test=train_test_split(features, labels, stratify=labels, test_size=0.2)"
      ],
      "metadata": {
        "id": "Do7uM2KiM4WS"
      },
      "execution_count": 92,
      "outputs": []
    },
    {
      "cell_type": "code",
      "source": [
        "scaler=StandardScaler()\n",
        "X_train_scaled= scaler.fit_transform(X_train)\n",
        "X_test_scaled=scaler.fit_transform(X_test)"
      ],
      "metadata": {
        "id": "d2kvlMOwM4Yl"
      },
      "execution_count": 93,
      "outputs": []
    },
    {
      "cell_type": "code",
      "source": [
        "# pca= PCA()\n",
        "# pca.fit(X_train_scaled, y_train)\n",
        "# pca_variance= pca.explained_variance_ratio_\n",
        "# features=range(pca.n_components_)\n",
        "# fig, ax= plt.subplots()\n",
        "\n",
        "# ax.bar(features, pca_variance)\n",
        "# ax.set_xlabel('principal comoponents')\n",
        "# ax.set_ylabel('variance ie directions of principal components')\n",
        "# plt.show()\n"
      ],
      "metadata": {
        "id": "ME5enT_wZwBj"
      },
      "execution_count": 94,
      "outputs": []
    },
    {
      "cell_type": "code",
      "source": [
        "# pca= PCA(n_components=2)\n",
        "# X_train_pca= pca.fit_transform(X_train_scaled)\n",
        "# X_test_pca= pca.transform(X_test_scaled)"
      ],
      "metadata": {
        "id": "-GKl1BWAcJeJ"
      },
      "execution_count": 95,
      "outputs": []
    },
    {
      "cell_type": "code",
      "source": [
        "# X_train_pca.shape[0], y_train.shape[0]"
      ],
      "metadata": {
        "id": "buq0MsthPsr7"
      },
      "execution_count": 96,
      "outputs": []
    },
    {
      "cell_type": "markdown",
      "source": [
        "Models"
      ],
      "metadata": {
        "id": "Rd-dLvxrOgvL"
      }
    },
    {
      "cell_type": "markdown",
      "source": [
        "K_Voisins"
      ],
      "metadata": {
        "id": "WzbJUqSYRJ0P"
      }
    },
    {
      "cell_type": "code",
      "source": [
        "knn=KNeighborsClassifier()\n",
        "knn.fit(X_train_scaled, y_train)\n",
        "knn_train_score= knn.score(X_train_scaled, y_train)\n",
        "knn_predict=knn.predict(X_test_scaled)\n",
        "#knn_test_score= float(np.sum(knn_predict==y_test)/y_test.shape[0] )\n",
        "knn_test_score= accuracy_score(y_test, knn_predict)\n",
        "print('knn training score {:.2f}'.format(knn_train_score))\n",
        "print('knn test score {:.2f}'.format(knn_test_score))\n"
      ],
      "metadata": {
        "colab": {
          "base_uri": "https://localhost:8080/"
        },
        "id": "GueYjULfM5xA",
        "outputId": "d7969286-941a-4cd7-d130-096d0ded9c3a"
      },
      "execution_count": 97,
      "outputs": [
        {
          "output_type": "stream",
          "name": "stdout",
          "text": [
            "knn training score 0.89\n",
            "knn test score 0.61\n"
          ]
        }
      ]
    },
    {
      "cell_type": "markdown",
      "source": [
        "SVM(Kernel_Linear)"
      ],
      "metadata": {
        "id": "jihcDDtYRPbb"
      }
    },
    {
      "cell_type": "code",
      "source": [
        "svm=LinearSVC(C=.0001)\n",
        "svm.fit(X_train_scaled, y_train)\n",
        "svm_training_score= svm.score(X_train_scaled, y_train)\n",
        "svm_predict=svm.predict(X_test_scaled)\n",
        "svm_test_score= accuracy_score(y_test, svm_predict)\n",
        "print('svm training score {:2f}'.format(svm_training_score))\n",
        "print('svm test score {:2f}'.format(svm_test_score))"
      ],
      "metadata": {
        "colab": {
          "base_uri": "https://localhost:8080/"
        },
        "id": "YZvyPSGbM5zY",
        "outputId": "eda7014c-8475-4dfc-bae4-6cf4ddfff181"
      },
      "execution_count": 98,
      "outputs": [
        {
          "output_type": "stream",
          "name": "stdout",
          "text": [
            "svm training score 0.563542\n",
            "svm test score 0.583333\n"
          ]
        }
      ]
    },
    {
      "cell_type": "markdown",
      "source": [
        "Logistic_Regresssion"
      ],
      "metadata": {
        "id": "JJIYV9mBS5fY"
      }
    },
    {
      "cell_type": "code",
      "source": [
        "logreg= LogisticRegression()\n",
        "logreg.fit(X_train_scaled, y_train)\n",
        "logreg_train_score= logreg.score(X_train_scaled, y_train)\n",
        "logreg_predict=logreg.predict(X_test_scaled)\n",
        "logreg_test_score= float(np.sum(logreg_predict==y_test)/y_test.shape[0])\n",
        "print('logistic regression training score {:2f}'.format(logreg_train_score))\n",
        "print('logistic regression test score {:2f}'.format(logreg_test_score))"
      ],
      "metadata": {
        "colab": {
          "base_uri": "https://localhost:8080/"
        },
        "id": "YKjzDlt7M4bL",
        "outputId": "fe81528f-a8de-424d-ffe2-0a6d302d47d1"
      },
      "execution_count": 99,
      "outputs": [
        {
          "output_type": "stream",
          "name": "stdout",
          "text": [
            "logistic regression training score 0.631250\n",
            "logistic regression test score 0.570833\n"
          ]
        }
      ]
    },
    {
      "cell_type": "markdown",
      "source": [
        "DecisionTreeClassifier"
      ],
      "metadata": {
        "id": "XATNSoD8UuTk"
      }
    },
    {
      "cell_type": "code",
      "source": [
        "tree=DecisionTreeClassifier()\n",
        "tree.fit(X_train_scaled, y_train)\n",
        "tree_predict= tree.predict(X_test_scaled)\n",
        "tree_train_score=tree.score(X_train_scaled, y_train)\n",
        "tree_test_score= accuracy_score(y_test, tree_predict)\n",
        "print('tree training score {:2f}'.format(tree_train_score))\n",
        "print('tree test score {:2f}'.format(tree_test_score))"
      ],
      "metadata": {
        "colab": {
          "base_uri": "https://localhost:8080/"
        },
        "id": "eH2Os90LM4dk",
        "outputId": "e8d643a2-efff-4500-da83-35c4dc22f01b"
      },
      "execution_count": 100,
      "outputs": [
        {
          "output_type": "stream",
          "name": "stdout",
          "text": [
            "tree training score 1.000000\n",
            "tree test score 0.479167\n"
          ]
        }
      ]
    },
    {
      "cell_type": "markdown",
      "source": [
        "SGD Classifier"
      ],
      "metadata": {
        "id": "OjNc8X2lVuVH"
      }
    },
    {
      "cell_type": "code",
      "source": [
        "sgd=SGDClassifier()\n",
        "sgd.fit(X_train_scaled, y_train)\n",
        "sgd_predict= sgd.predict(X_test_scaled)\n",
        "sgd_train_score= sgd.score(X_train_scaled, y_train)\n",
        "sgd_test_score= accuracy_score(y_test, sgd_predict)\n",
        "\n",
        "print('sgd training score {:2f}'.format(sgd_train_score))\n",
        "print('sgd test score {:2f}'.format(sgd_test_score))\n"
      ],
      "metadata": {
        "colab": {
          "base_uri": "https://localhost:8080/"
        },
        "id": "FW_ZpP2YM4fx",
        "outputId": "6e0f2e52-028f-4f8a-f9d4-8ae9f85c026a"
      },
      "execution_count": 101,
      "outputs": [
        {
          "output_type": "stream",
          "name": "stdout",
          "text": [
            "sgd training score 0.640625\n",
            "sgd test score 0.579167\n"
          ]
        }
      ]
    },
    {
      "cell_type": "markdown",
      "source": [
        "Random_Forest_Classifier"
      ],
      "metadata": {
        "id": "3F6GyjOMV_5I"
      }
    },
    {
      "cell_type": "code",
      "source": [
        "rf= RandomForestClassifier()\n",
        "rf.fit(X_train_scaled, y_train)\n",
        "rf_predict= rf.predict(X_test_scaled)\n",
        "rf_train_score= rf.score(X_train_scaled, y_train)\n",
        "rf_test_score= accuracy_score(y_test, rf_predict)\n",
        "\n",
        "print('rf training score {:2f}'.format(rf_train_score))\n",
        "print('rf test score {:2f}'.format(rf_test_score))"
      ],
      "metadata": {
        "colab": {
          "base_uri": "https://localhost:8080/"
        },
        "id": "ieDfPHl1M4-O",
        "outputId": "04de8153-22cc-48c5-d6dc-9c98b0e00e78"
      },
      "execution_count": 102,
      "outputs": [
        {
          "output_type": "stream",
          "name": "stdout",
          "text": [
            "rf training score 1.000000\n",
            "rf test score 0.575000\n"
          ]
        }
      ]
    },
    {
      "cell_type": "code",
      "source": [
        "def cross_validation_score():\n",
        "  results=[]\n",
        "  models=[('logistic regression', logreg),\n",
        "          ('Kneighors', knn), \n",
        "          ('svm', svm),\n",
        "          ('random forest', rf),\n",
        "          ('Decision tree', tree),\n",
        "          ('SGD classifier', sgd)\n",
        "           ]\n",
        "  for name, model in models:\n",
        "    cv_score= cross_val_score(model, X_train_scaled, y_train, cv=5)\n",
        "    results.append(cv_score)\n",
        "    print('{}  score is {}'.format(name, np.mean(cv_score)))\n"
      ],
      "metadata": {
        "id": "RQxojOStM5dU"
      },
      "execution_count": 103,
      "outputs": []
    },
    {
      "cell_type": "code",
      "source": [
        "cross_validation_score()"
      ],
      "metadata": {
        "colab": {
          "base_uri": "https://localhost:8080/"
        },
        "id": "gusdKM9hwXPQ",
        "outputId": "7c1f6425-d2e5-4d22-df1a-6d5df3f80d39"
      },
      "execution_count": 104,
      "outputs": [
        {
          "output_type": "stream",
          "name": "stdout",
          "text": [
            "logistic regression  score is 0.61875\n",
            "Kneighors  score is 0.8041666666666666\n",
            "svm  score is 0.5718750000000001\n",
            "random forest  score is 0.803125\n",
            "Decision tree  score is 0.7250000000000001\n",
            "SGD classifier  score is 0.6010416666666667\n"
          ]
        }
      ]
    },
    {
      "cell_type": "code",
      "source": [
        "def boxplots_evaluation():\n",
        "  models={'logistic_regression':\n",
        "          logreg,\n",
        "          'Kneighbors': knn,\n",
        "          'svm_linear': svm, \n",
        "          'Random_Forest': rf,\n",
        "          'Decision_Tree ': tree,\n",
        "          'SGD_Classifier': sgd\n",
        "        }\n",
        "  score=[]\n",
        "  for model_ in models.values():\n",
        "    cros_valid_score= cross_val_score(model_, X_train_scaled, y_train, cv=10 )\n",
        "    score.append(cros_valid_score)\n",
        "\n",
        "  fig, ax= plt.subplots(figsize=(12,8))\n",
        "  ax.boxplot(score, labels= models.keys())\n",
        "  ax.set_title('boxplots to check for the best model')\n",
        "  plt.show()\n"
      ],
      "metadata": {
        "id": "GbH_i8vhwbXM"
      },
      "execution_count": 105,
      "outputs": []
    },
    {
      "cell_type": "code",
      "source": [
        "boxplots_evaluation()"
      ],
      "metadata": {
        "colab": {
          "base_uri": "https://localhost:8080/",
          "height": 500
        },
        "id": "TIRDps3zwb7A",
        "outputId": "f9f4e660-0752-44ae-cbcf-8cd103ff85e6"
      },
      "execution_count": 106,
      "outputs": [
        {
          "output_type": "display_data",
          "data": {
            "text/plain": [
              "<Figure size 864x576 with 1 Axes>"
            ],
            "image/png": "[encoded data removed]"
          },
          "metadata": {
            "needs_background": "light"
          }
        }
      ]
    },
    {
      "cell_type": "code",
      "source": [
        "def calcul_matrix_classification_report():\n",
        "  classif_report= classification_report(y_test, logreg_predict)\n",
        "  print('classification report of logreg \\n: {}'.format(classif_report))\n",
        "  print('\\n')\n",
        "  conf_matrix=confusion_matrix(y_test, logreg_predict)\n",
        "  fig, ax= plt.subplots()\n",
        "  sns.heatmap(conf_matrix, cmap='Blues',annot=True,cbar=True)\n",
        "  ax.set_xlabel('predicted class')\n",
        "  ax.set_ylabel('actual class')\n",
        "  ax.set_title('Confusion matrix of Logistic regression')\n",
        "  plt.show()"
      ],
      "metadata": {
        "id": "qVGbuCcOr2lT"
      },
      "execution_count": 111,
      "outputs": []
    },
    {
      "cell_type": "code",
      "source": [
        "calcul_matrix_classification_report()"
      ],
      "metadata": {
        "colab": {
          "base_uri": "https://localhost:8080/",
          "height": 503
        },
        "id": "iwd-2A1kr1nw",
        "outputId": "4d2090b7-1ce4-4ff6-cf18-920819a7a8dd"
      },
      "execution_count": 112,
      "outputs": [
        {
          "output_type": "stream",
          "name": "stdout",
          "text": [
            "classification report of logreg \n",
            ":               precision    recall  f1-score   support\n",
            "\n",
            "           0       0.58      0.54      0.56       120\n",
            "           1       0.57      0.60      0.58       120\n",
            "\n",
            "    accuracy                           0.57       240\n",
            "   macro avg       0.57      0.57      0.57       240\n",
            "weighted avg       0.57      0.57      0.57       240\n",
            "\n",
            "\n",
            "\n"
          ]
        },
        {
          "output_type": "display_data",
          "data": {
            "text/plain": [
              "<Figure size 432x288 with 2 Axes>"
            ],
            "image/png": "[encoded data removed]"
          },
          "metadata": {
            "needs_background": "light"
          }
        }
      ]
    },
    {
      "cell_type": "code",
      "source": [
        "data=pd.DataFrame({'Models':['Kneighbors','logistic_regression','svm_linear', 'Random_Forest', 'Decision_Tree', 'SGD_Classifier'],\n",
        "       'training accuracy score':[knn_train_score, logreg_train_score,\n",
        "                                  svm_training_score, rf_train_score,\n",
        "                                  tree_train_score, sgd_train_score] ,\n",
        "       'Score':[knn_test_score, logreg_test_score,svm_test_score\n",
        "                                , rf_test_score, tree_test_score, sgd_test_score]\n",
        "       })"
      ],
      "metadata": {
        "id": "tW4ATW2gwcWP"
      },
      "execution_count": 109,
      "outputs": []
    },
    {
      "cell_type": "code",
      "source": [
        "data.sort_values(by='Score', ascending=False)"
      ],
      "metadata": {
        "colab": {
          "base_uri": "https://localhost:8080/",
          "height": 239
        },
        "id": "r_E_h6v7wcps",
        "outputId": "26167025-410d-46e0-9fa9-05a4c7a324f3"
      },
      "execution_count": 110,
      "outputs": [
        {
          "output_type": "execute_result",
          "data": {
            "text/plain": [
              "                Models  training accuracy score     Score\n",
              "0           Kneighbors                 0.890625  0.608333\n",
              "2           svm_linear                 0.563542  0.583333\n",
              "5       SGD_Classifier                 0.640625  0.579167\n",
              "3        Random_Forest                 1.000000  0.575000\n",
              "1  logistic_regression                 0.631250  0.570833\n",
              "4        Decision_Tree                 1.000000  0.479167"
            ],
            "text/html": [
              "\n",
              "  <div id=\"df-534e9226-bf75-42ca-bd7a-d7e22c691d2d\">\n",
              "    <div class=\"colab-df-container\">\n",
              "      <div>\n",
              "<style scoped>\n",
              "    .dataframe tbody tr th:only-of-type {\n",
              "        vertical-align: middle;\n",
              "    }\n",
              "\n",
              "    .dataframe tbody tr th {\n",
              "        vertical-align: top;\n",
              "    }\n",
              "\n",
              "    .dataframe thead th {\n",
              "        text-align: right;\n",
              "    }\n",
              "</style>\n",
              "<table border=\"1\" class=\"dataframe\">\n",
              "  <thead>\n",
              "    <tr style=\"text-align: right;\">\n",
              "      <th></th>\n",
              "      <th>Models</th>\n",
              "      <th>training accuracy score</th>\n",
              "      <th>Score</th>\n",
              "    </tr>\n",
              "  </thead>\n",
              "  <tbody>\n",
              "    <tr>\n",
              "      <th>0</th>\n",
              "      <td>Kneighbors</td>\n",
              "      <td>0.890625</td>\n",
              "      <td>0.608333</td>\n",
              "    </tr>\n",
              "    <tr>\n",
              "      <th>2</th>\n",
              "      <td>svm_linear</td>\n",
              "      <td>0.563542</td>\n",
              "      <td>0.583333</td>\n",
              "    </tr>\n",
              "    <tr>\n",
              "      <th>5</th>\n",
              "      <td>SGD_Classifier</td>\n",
              "      <td>0.640625</td>\n",
              "      <td>0.579167</td>\n",
              "    </tr>\n",
              "    <tr>\n",
              "      <th>3</th>\n",
              "      <td>Random_Forest</td>\n",
              "      <td>1.000000</td>\n",
              "      <td>0.575000</td>\n",
              "    </tr>\n",
              "    <tr>\n",
              "      <th>1</th>\n",
              "      <td>logistic_regression</td>\n",
              "      <td>0.631250</td>\n",
              "      <td>0.570833</td>\n",
              "    </tr>\n",
              "    <tr>\n",
              "      <th>4</th>\n",
              "      <td>Decision_Tree</td>\n",
              "      <td>1.000000</td>\n",
              "      <td>0.479167</td>\n",
              "    </tr>\n",
              "  </tbody>\n",
              "</table>\n",
              "</div>\n",
              "      <button class=\"colab-df-convert\" onclick=\"convertToInteractive('df-534e9226-bf75-42ca-bd7a-d7e22c691d2d')\"\n",
              "              title=\"Convert this dataframe to an interactive table.\"\n",
              "              style=\"display:none;\">\n",
              "        \n",
              "  <svg xmlns=\"http://www.w3.org/2000/svg\" height=\"24px\"viewBox=\"0 0 24 24\"\n",
              "       width=\"24px\">\n",
              "    <path d=\"M0 0h24v24H0V0z\" fill=\"none\"/>\n",
              "    <path d=\"M18.56 5.44l.94 2.06.94-2.06 2.06-.94-2.06-.94-.94-2.06-.94 2.06-2.06.94zm-11 1L8.5 8.5l.94-2.06 2.06-.94-2.06-.94L8.5 2.5l-.94 2.06-2.06.94zm10 10l.94 2.06.94-2.06 2.06-.94-2.06-.94-.94-2.06-.94 2.06-2.06.94z\"/><path d=\"M17.41 7.96l-1.37-1.37c-.4-.4-.92-.59-1.43-.59-.52 0-1.04.2-1.43.59L10.3 9.45l-7.72 7.72c-.78.78-.78 2.05 0 2.83L4 21.41c.39.39.9.59 1.41.59.51 0 1.02-.2 1.41-.59l7.78-7.78 2.81-2.81c.8-.78.8-2.07 0-2.86zM5.41 20L4 18.59l7.72-7.72 1.47 1.35L5.41 20z\"/>\n",
              "  </svg>\n",
              "      </button>\n",
              "      \n",
              "  <style>\n",
              "    .colab-df-container {\n",
              "      display:flex;\n",
              "      flex-wrap:wrap;\n",
              "      gap: 12px;\n",
              "    }\n",
              "\n",
              "    .colab-df-convert {\n",
              "      background-color: #E8F0FE;\n",
              "      border: none;\n",
              "      border-radius: 50%;\n",
              "      cursor: pointer;\n",
              "      display: none;\n",
              "      fill: #1967D2;\n",
              "      height: 32px;\n",
              "      padding: 0 0 0 0;\n",
              "      width: 32px;\n",
              "    }\n",
              "\n",
              "    .colab-df-convert:hover {\n",
              "      background-color: #E2EBFA;\n",
              "      box-shadow: 0px 1px 2px rgba(60, 64, 67, 0.3), 0px 1px 3px 1px rgba(60, 64, 67, 0.15);\n",
              "      fill: #174EA6;\n",
              "    }\n",
              "\n",
              "    [theme=dark] .colab-df-convert {\n",
              "      background-color: #3B4455;\n",
              "      fill: #D2E3FC;\n",
              "    }\n",
              "\n",
              "    [theme=dark] .colab-df-convert:hover {\n",
              "      background-color: #434B5C;\n",
              "      box-shadow: 0px 1px 3px 1px rgba(0, 0, 0, 0.15);\n",
              "      filter: drop-shadow(0px 1px 2px rgba(0, 0, 0, 0.3));\n",
              "      fill: #FFFFFF;\n",
              "    }\n",
              "  </style>\n",
              "\n",
              "      <script>\n",
              "        const buttonEl =\n",
              "          document.querySelector('#df-534e9226-bf75-42ca-bd7a-d7e22c691d2d button.colab-df-convert');\n",
              "        buttonEl.style.display =\n",
              "          google.colab.kernel.accessAllowed ? 'block' : 'none';\n",
              "\n",
              "        async function convertToInteractive(key) {\n",
              "          const element = document.querySelector('#df-534e9226-bf75-42ca-bd7a-d7e22c691d2d');\n",
              "          const dataTable =\n",
              "            await google.colab.kernel.invokeFunction('convertToInteractive',\n",
              "                                                     [key], {});\n",
              "          if (!dataTable) return;\n",
              "\n",
              "          const docLinkHtml = 'Like what you see? Visit the ' +\n",
              "            '<a target=\"_blank\" href=https://colab.research.google.com/notebooks/data_table.ipynb>data table notebook</a>'\n",
              "            + ' to learn more about interactive tables.';\n",
              "          element.innerHTML = '';\n",
              "          dataTable['output_type'] = 'display_data';\n",
              "          await google.colab.output.renderOutput(dataTable, element);\n",
              "          const docLink = document.createElement('div');\n",
              "          docLink.innerHTML = docLinkHtml;\n",
              "          element.appendChild(docLink);\n",
              "        }\n",
              "      </script>\n",
              "    </div>\n",
              "  </div>\n",
              "  "
            ]
          },
          "metadata": {},
          "execution_count": 110
        }
      ]
    },
    {
      "cell_type": "code",
      "source": [
        ""
      ],
      "metadata": {
        "id": "-nPAkbpXIF9m"
      },
      "execution_count": 110,
      "outputs": []
    }
  ]
}